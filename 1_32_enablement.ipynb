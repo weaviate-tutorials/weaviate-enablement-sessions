{
 "cells": [
  {
   "cell_type": "markdown",
   "id": "3c8d2b79",
   "metadata": {},
   "source": [
    "## Weaviate 1.32 enablement session"
   ]
  },
  {
   "cell_type": "markdown",
   "id": "da8a1154",
   "metadata": {},
   "source": [
    "### Agenda\n",
    "\n",
    "- Collection aliases\n",
    "- Replica movement\n",
    "- Rotational quantization\n",
    "- Python: Vectorizer DX refactor\n",
    "- HNSW connection compression\n",
    "- RBAC updates\n",
    "- New models"
   ]
  },
  {
   "cell_type": "markdown",
   "id": "881db85c",
   "metadata": {},
   "source": [
    "### Prep"
   ]
  },
  {
   "cell_type": "code",
   "execution_count": 1,
   "id": "ff428f51",
   "metadata": {},
   "outputs": [
    {
     "data": {
      "text/plain": [
       "True"
      ]
     },
     "execution_count": 1,
     "metadata": {},
     "output_type": "execute_result"
    }
   ],
   "source": [
    "import weaviate\n",
    "import os\n",
    "\n",
    "client = weaviate.connect_to_local(\n",
    "    headers={\n",
    "        \"X-Cohere-Api-Key\": os.getenv(\"COHERE_API_KEY\"),\n",
    "        \"X-OpenAI-Api-Key\": os.getenv(\"OPENAI_API_KEY\"),\n",
    "    }\n",
    ")\n",
    "\n",
    "client.is_ready()"
   ]
  },
  {
   "cell_type": "code",
   "execution_count": 2,
   "id": "0d6d3487",
   "metadata": {},
   "outputs": [],
   "source": [
    "client.collections.delete_all()"
   ]
  },
  {
   "cell_type": "markdown",
   "id": "575ce1b3",
   "metadata": {},
   "source": [
    "### Collection aliases"
   ]
  },
  {
   "cell_type": "markdown",
   "id": "5e322a69",
   "metadata": {},
   "source": [
    "#### How things work now"
   ]
  },
  {
   "cell_type": "code",
   "execution_count": null,
   "id": "d300ca31",
   "metadata": {},
   "outputs": [
    {
     "data": {
      "text/plain": [
       "<weaviate.collections.collection.sync.Collection at 0x10d470a90>"
      ]
     },
     "execution_count": 3,
     "metadata": {},
     "output_type": "execute_result"
    }
   ],
   "source": [
    "from weaviate.classes.config import Configure, Property, DataType\n",
    "\n",
    "client.collections.create(\n",
    "    \"MoviesConfigA\",\n",
    "    properties=[\n",
    "        Property(name=\"title\", data_type=DataType.TEXT),\n",
    "        Property(name=\"body\", data_type=DataType.TEXT),\n",
    "    ],\n",
    "    vectorizer_config=[\n",
    "        Configure.NamedVectors.text2vec_cohere(name=\"default\"),\n",
    "    ],\n",
    "    generative_config=Configure.Generative.cohere()\n",
    ")"
   ]
  },
  {
   "cell_type": "code",
   "execution_count": null,
   "id": "07d20065",
   "metadata": {},
   "outputs": [],
   "source": [
    "objects = [\n",
    "    {\n",
    "        \"title\": \"Tropic Thunder\",\n",
    "        \"body\": \"When their frustrated director (Steve Coogan) drops them in the middle of a jungle and dies in an accident, they are forced to rely on their acting skills to survive the real action and danger.\"\n",
    "    },\n",
    "    {\n",
    "        \"title\": \"Dodgeball\",\n",
    "        \"body\": \"A group of unlikely misfits enter a Las Vegas dodgeball tournament, needing the prize money to save their cherished gym from being taken over by a corporate health fitness chain.\"\n",
    "    },\n",
    "    {\n",
    "        \"title\": \"Zoolander\",\n",
    "        \"body\": \"Derek Zoolander (Stiller) is tricked by fashion mogul Jacobim Mugatu (Will Ferrell) into assassinating the Prime Minister of Malaysia, whose progressive laws on the fashion industry would harm his businesses.\",\n",
    "    },\n",
    "    {\n",
    "        \"title\": \"Blades of Glory\",\n",
    "        \"body\": \"A mismatched pair of banned figure skaters become teammates upon discovering a loophole that will allow them to compete in the sport again.\"\n",
    "    }\n",
    "]"
   ]
  },
  {
   "cell_type": "code",
   "execution_count": null,
   "id": "39297f59",
   "metadata": {},
   "outputs": [
    {
     "data": {
      "text/plain": [
       "BatchObjectReturn(_all_responses=[UUID('5688d747-966b-4730-ab91-489a1df4e0f1'), UUID('29e8937c-bf69-401e-89d5-e87709629a09'), UUID('cc062d0d-cfbd-4bb2-a142-3be047ee45fa'), UUID('c2a6388d-3730-441d-b318-47fe7037dcd1')], elapsed_seconds=0.30062079429626465, errors={}, uuids={0: UUID('5688d747-966b-4730-ab91-489a1df4e0f1'), 1: UUID('29e8937c-bf69-401e-89d5-e87709629a09'), 2: UUID('cc062d0d-cfbd-4bb2-a142-3be047ee45fa'), 3: UUID('c2a6388d-3730-441d-b318-47fe7037dcd1')}, has_errors=False)"
      ]
     },
     "execution_count": 5,
     "metadata": {},
     "output_type": "execute_result"
    }
   ],
   "source": [
    "movies_direct = client.collections.get(\"MoviesConfigA\")\n",
    "\n",
    "movies_direct.data.insert_many(objects=objects)"
   ]
  },
  {
   "cell_type": "markdown",
   "id": "39024243",
   "metadata": {},
   "source": [
    "![img/1_32_aliases/1_collection_before.png](img/1_32_aliases/1_collection_before.png)"
   ]
  },
  {
   "cell_type": "code",
   "execution_count": null,
   "id": "e33482de",
   "metadata": {},
   "outputs": [
    {
     "name": "stdout",
     "output_type": "stream",
     "text": [
      "Dodgeball\n",
      "Blades of Glory\n"
     ]
    }
   ],
   "source": [
    "r = movies_direct.query.hybrid(\n",
    "    query=\"sports comedy\",\n",
    "    limit=2\n",
    ")\n",
    "\n",
    "for o in r.objects:\n",
    "    print(o.properties[\"title\"])"
   ]
  },
  {
   "cell_type": "markdown",
   "id": "5d6dbcf7",
   "metadata": {},
   "source": [
    "#### Introducing: Aliases"
   ]
  },
  {
   "cell_type": "code",
   "execution_count": null,
   "id": "9a749d0e",
   "metadata": {},
   "outputs": [],
   "source": [
    "client.alias.create(alias_name=\"Movies\", target_collection=\"MoviesConfigA\")"
   ]
  },
  {
   "cell_type": "code",
   "execution_count": null,
   "id": "9f38cdd4",
   "metadata": {},
   "outputs": [
    {
     "name": "stdout",
     "output_type": "stream",
     "text": [
      "Dodgeball\n",
      "Blades of Glory\n"
     ]
    }
   ],
   "source": [
    "movies = client.collections.get(\"Movies\")  # <-- Treat the alias as a collection\n",
    "\n",
    "r = movies.query.hybrid(\n",
    "    query=\"sports comedy\",\n",
    "    limit=2\n",
    ")\n",
    "\n",
    "for o in r.objects:\n",
    "    print(o.properties[\"title\"])"
   ]
  },
  {
   "cell_type": "markdown",
   "id": "f2afad8d",
   "metadata": {},
   "source": [
    "![img/1_32_aliases/2_collection_with_alias.png](img/1_32_aliases/2_collection_with_alias.png)"
   ]
  },
  {
   "cell_type": "markdown",
   "id": "5b4671a1",
   "metadata": {},
   "source": [
    "#### Why aliases, though?"
   ]
  },
  {
   "cell_type": "markdown",
   "id": "a7c69c9c",
   "metadata": {},
   "source": [
    "What if your needs change?"
   ]
  },
  {
   "cell_type": "code",
   "execution_count": null,
   "id": "924daddc",
   "metadata": {},
   "outputs": [
    {
     "data": {
      "text/plain": [
       "<weaviate.collections.collection.sync.Collection at 0x10d4ef310>"
      ]
     },
     "execution_count": 14,
     "metadata": {},
     "output_type": "execute_result"
    }
   ],
   "source": [
    "from weaviate.classes.config import Configure, Property, DataType\n",
    "\n",
    "client.collections.delete(\"MoviesConfigB\")\n",
    "\n",
    "client.collections.create(\n",
    "    \"MoviesConfigB\",\n",
    "    properties=[\n",
    "        Property(name=\"title\", data_type=DataType.TEXT),\n",
    "        Property(name=\"body\", data_type=DataType.TEXT),\n",
    "        Property(name=\"rating\", data_type=DataType.NUMBER),\n",
    "        Property(name=\"release_year\", data_type=DataType.INT),\n",
    "    ],\n",
    "    vectorizer_config=[\n",
    "        Configure.NamedVectors.text2vec_cohere(\n",
    "            name=\"default\",\n",
    "            vector_index_config=Configure.VectorIndex.hnsw(\n",
    "                quantizer=Configure.VectorIndex.Quantizer.sq()\n",
    "            ),\n",
    "        ),\n",
    "    ],\n",
    "    generative_config=Configure.Generative.anthropic()\n",
    ")"
   ]
  },
  {
   "cell_type": "code",
   "execution_count": null,
   "id": "dfe601b5",
   "metadata": {},
   "outputs": [],
   "source": [
    "objects = [\n",
    "    {\n",
    "        \"title\": \"Tropic Thunder\",\n",
    "        \"body\": \"When their frustrated director (Steve Coogan) drops them in the middle of a jungle and dies in an accident, they are forced to rely on their acting skills to survive the real action and danger.\",\n",
    "        \"rating\": 9.0,\n",
    "        \"release_year\": 2008\n",
    "    },\n",
    "    {\n",
    "        \"title\": \"Dodgeball\",\n",
    "        \"body\": \"A group of unlikely misfits enter a Las Vegas dodgeball tournament, needing the prize money to save their cherished gym from being taken over by a corporate health fitness chain.\",\n",
    "        \"rating\": 8.5,\n",
    "        \"release_year\": 2004\n",
    "    },\n",
    "    {\n",
    "        \"title\": \"Zoolander\",\n",
    "        \"body\": \"Derek Zoolander (Stiller) is tricked by fashion mogul Jacobim Mugatu (Will Ferrell) into assassinating the Prime Minister of Malaysia, whose progressive laws on the fashion industry would harm his businesses.\",\n",
    "        \"rating\": 7.5,\n",
    "        \"release_year\": 2001\n",
    "    },\n",
    "    {\n",
    "        \"title\": \"Blades of Glory\",\n",
    "        \"body\": \"A mismatched pair of banned figure skaters become teammates upon discovering a loophole that will allow them to compete in the sport again.\",\n",
    "        \"rating\": 8.0,\n",
    "        \"release_year\": 2007\n",
    "    }\n",
    "]"
   ]
  },
  {
   "cell_type": "code",
   "execution_count": null,
   "id": "0585c163",
   "metadata": {},
   "outputs": [
    {
     "data": {
      "text/plain": [
       "BatchObjectReturn(_all_responses=[UUID('9c1d5a41-3948-40ac-8324-579fc843ccb5'), UUID('05e6bcde-63a9-485e-bf36-743cb62022cf'), UUID('b6629976-5589-4550-8df5-be6104259c51'), UUID('c9823405-9d3f-427e-820f-10a29dc53a3b')], elapsed_seconds=0.1859748363494873, errors={}, uuids={0: UUID('9c1d5a41-3948-40ac-8324-579fc843ccb5'), 1: UUID('05e6bcde-63a9-485e-bf36-743cb62022cf'), 2: UUID('b6629976-5589-4550-8df5-be6104259c51'), 3: UUID('c9823405-9d3f-427e-820f-10a29dc53a3b')}, has_errors=False)"
      ]
     },
     "execution_count": 16,
     "metadata": {},
     "output_type": "execute_result"
    }
   ],
   "source": [
    "movies = client.collections.get(\"MoviesConfigB\")\n",
    "\n",
    "movies.data.insert_many(objects=objects)"
   ]
  },
  {
   "cell_type": "markdown",
   "id": "1be8f579",
   "metadata": {},
   "source": [
    "![img/1_32_aliases/3_collection_to_another.png](img/1_32_aliases/3_collection_to_another.png)"
   ]
  },
  {
   "cell_type": "markdown",
   "id": "f178dcd3",
   "metadata": {},
   "source": [
    "Now, with aliases... this becomes super easy!"
   ]
  },
  {
   "cell_type": "code",
   "execution_count": null,
   "id": "c141dd7c",
   "metadata": {},
   "outputs": [
    {
     "data": {
      "text/plain": [
       "True"
      ]
     },
     "execution_count": 17,
     "metadata": {},
     "output_type": "execute_result"
    }
   ],
   "source": [
    "client.alias.update(alias_name=\"Movies\", new_target_collection=\"MoviesConfigB\")"
   ]
  },
  {
   "cell_type": "code",
   "execution_count": null,
   "id": "a8db6d02",
   "metadata": {},
   "outputs": [
    {
     "name": "stdout",
     "output_type": "stream",
     "text": [
      "Dodgeball\n",
      "Blades of Glory\n"
     ]
    }
   ],
   "source": [
    "movies = client.collections.get(\"Movies\")\n",
    "\n",
    "r = movies.query.hybrid(\n",
    "    query=\"sports comedy\",\n",
    "    limit=2\n",
    ")\n",
    "\n",
    "for o in r.objects:\n",
    "    print(o.properties[\"title\"])"
   ]
  },
  {
   "cell_type": "code",
   "execution_count": null,
   "id": "b8f54db5",
   "metadata": {},
   "outputs": [
    {
     "name": "stdout",
     "output_type": "stream",
     "text": [
      "Blades of Glory\n",
      "Tropic Thunder\n"
     ]
    }
   ],
   "source": [
    "from weaviate.classes.query import Filter\n",
    "\n",
    "r = movies.query.hybrid(\n",
    "    query=\"sports comedy\",\n",
    "    limit=2,\n",
    "    filters=Filter.by_property(\"release_year\").greater_than(2006)\n",
    ")\n",
    "\n",
    "for o in r.objects:\n",
    "    print(o.properties[\"title\"])"
   ]
  },
  {
   "cell_type": "markdown",
   "id": "e1668247",
   "metadata": {},
   "source": [
    "![img/1_32_aliases/4_collection_alias_swap.png](img/1_32_aliases/4_collection_alias_swap.png)"
   ]
  },
  {
   "cell_type": "code",
   "execution_count": null,
   "id": "7ac619e6",
   "metadata": {},
   "outputs": [],
   "source": [
    "client.alias.list_all()"
   ]
  },
  {
   "cell_type": "markdown",
   "id": "5cac19bd",
   "metadata": {},
   "source": [
    "<style>\n",
    ".admonition {\n",
    "    padding: 10px;\n",
    "    margin: 10px; \n",
    "    border-left: 4px solid;\n",
    "    border-radius: 4px;\n",
    "}\n",
    ".note { border-color: #007acc; background-color: #f0f8ff; }\n",
    ".warning { border-color: #ff6b6b; background-color: #fff5f5; }\n",
    "</style>\n",
    "\n",
    "<div class=\"admonition note\">\n",
    "<strong>Note:</strong> Collection aliases are in technical preview in Weaviate 1.32\n",
    "</div>"
   ]
  },
  {
   "cell_type": "markdown",
   "id": "73b4583e",
   "metadata": {},
   "source": [
    "### Shard replica movement"
   ]
  },
  {
   "cell_type": "markdown",
   "id": "37dce55c",
   "metadata": {},
   "source": [
    "#### What are shards?"
   ]
  },
  {
   "cell_type": "markdown",
   "id": "5c61f4e4",
   "metadata": {},
   "source": [
    "![img/1_32_shard_movement/1_what_are_shards.png](img/1_32_shard_movement/1_what_are_shards.png)"
   ]
  },
  {
   "cell_type": "markdown",
   "id": "ee905862",
   "metadata": {},
   "source": [
    "#### Shards in a multi-node cluster\n",
    "\n",
    "- S1, S2, etc -> shard replicas"
   ]
  },
  {
   "cell_type": "markdown",
   "id": "1ab6a3da",
   "metadata": {},
   "source": [
    "![img/1_32_shard_movement/2_shards_before.png](img/1_32_shard_movement/2_shards_before.png)"
   ]
  },
  {
   "cell_type": "markdown",
   "id": "377b7256",
   "metadata": {},
   "source": [
    "#### Shard movement in a multi-node cluster"
   ]
  },
  {
   "cell_type": "markdown",
   "id": "4437cc10",
   "metadata": {},
   "source": [
    "1. If some nodes are more loaded than others \n",
    "- e.g. due to some nodes having more data, seeing more queries, etc."
   ]
  },
  {
   "cell_type": "markdown",
   "id": "63e6aad2",
   "metadata": {},
   "source": [
    "![img/1_32_shard_movement/3_shard_replica_movement.png](img/1_32_shard_movement/3_shard_replica_movement.png)"
   ]
  },
  {
   "cell_type": "markdown",
   "id": "e1519764",
   "metadata": {},
   "source": [
    "Move shards between nodes to balance the load"
   ]
  },
  {
   "cell_type": "markdown",
   "id": "955d7b60",
   "metadata": {},
   "source": [
    "2. If cluster is reaching its capacity\n",
    "- Too much data / too many queries, etc. overall"
   ]
  },
  {
   "cell_type": "markdown",
   "id": "a8bf36f7",
   "metadata": {},
   "source": [
    "![img/1_32_shard_movement/4_shard_replica_movement_to_new_node.png](img/1_32_shard_movement/4_shard_replica_movement_to_new_node.png)"
   ]
  },
  {
   "cell_type": "markdown",
   "id": "af5d0669",
   "metadata": {},
   "source": [
    "#### Replica movement syntax"
   ]
  },
  {
   "cell_type": "code",
   "execution_count": null,
   "id": "fb119d57",
   "metadata": {},
   "outputs": [],
   "source": [
    "collection_name = \"CollectionWithReplicas\"\n",
    "\n",
    "collection_sharding_state = client.cluster.query_sharding_state(\n",
    "    collection=collection_name\n",
    ")\n",
    "if collection_sharding_state and collection_sharding_state.shards:\n",
    "    print(f\"Shards in '{collection_name}': {[s.name for s in collection_sharding_state.shards]}\")"
   ]
  },
  {
   "cell_type": "code",
   "execution_count": null,
   "id": "c9cf6d00",
   "metadata": {},
   "outputs": [],
   "source": [
    "# Get 'shard_name' above ⬆️\n",
    "\n",
    "shard_name = \"tF9DtxC59ykC\"\n",
    "specific_shard_state = client.cluster.query_sharding_state(collection=collection_name, shard=shard_name)\n",
    "\n",
    "if specific_shard_state and specific_shard_state.shards:\n",
    "    print(f\"Nodes for shard '{shard_name}': {specific_shard_state.shards[0].replicas}\")"
   ]
  },
  {
   "cell_type": "markdown",
   "id": "24b2bf71",
   "metadata": {},
   "source": [
    "Initiate shard movement"
   ]
  },
  {
   "cell_type": "code",
   "execution_count": null,
   "id": "042288e1",
   "metadata": {},
   "outputs": [],
   "source": [
    "from weaviate.cluster.models import TransferType\n",
    "\n",
    "operation_id = client.cluster.replicate(\n",
    "    collection=collection_name,\n",
    "    shard=shard_name,\n",
    "    source_node=source_node_name,\n",
    "    target_node=target_node_name,\n",
    "    transfer_type=TransferType.COPY,  # or TransferType.MOVE\n",
    ")\n",
    "print(f\"Replication initiated, ID: {operation_id}\")"
   ]
  },
  {
   "cell_type": "markdown",
   "id": "b3216623",
   "metadata": {},
   "source": [
    "Check operation status"
   ]
  },
  {
   "cell_type": "code",
   "execution_count": null,
   "id": "4e6c7280",
   "metadata": {},
   "outputs": [],
   "source": [
    "op_status = client.cluster.replications.get(\n",
    "    uuid=operation_id,\n",
    "    # include_history=True\n",
    ")\n",
    "print(f\"Status for {operation_id}: {op_status.status.state}\")"
   ]
  },
  {
   "cell_type": "markdown",
   "id": "4ec7634a",
   "metadata": {},
   "source": [
    "Operations can be:\n",
    "- Cancelled\n",
    "- Deleted (cancel, then delete)\n",
    "\n",
    "Can also list all operations."
   ]
  },
  {
   "cell_type": "markdown",
   "id": "2990a691",
   "metadata": {},
   "source": [
    "### Rotational quantization"
   ]
  },
  {
   "cell_type": "markdown",
   "id": "07e6be2d",
   "metadata": {},
   "source": [
    "New quantization method for vectors. RQ:\n",
    "\n",
    "- Does not require training\n",
    "- Increases query speed\n",
    "- Has negligible impact on search quality"
   ]
  },
  {
   "cell_type": "code",
   "execution_count": null,
   "id": "21feda6a",
   "metadata": {},
   "outputs": [],
   "source": [
    "from weaviate.classes.config import Configure, Property, DataType\n",
    "\n",
    "collection_name = \"Movies\"\n",
    "\n",
    "client.collections.delete(collection_name)\n",
    "\n",
    "client.collections.create(\n",
    "    collection_name,\n",
    "    properties=[\n",
    "        Property(name=\"title\", data_type=DataType.TEXT),\n",
    "        Property(name=\"body\", data_type=DataType.TEXT),\n",
    "    ],\n",
    "    vectorizer_config=[\n",
    "        Configure.NamedVectors.text2vec_cohere(\n",
    "            vector_index_config=Configure.VectorIndex.hnsw(\n",
    "                # ===== Enable RQ like this =====\n",
    "                quantizer=Configure.VectorIndex.Quantizer.rq()\n",
    "                # ===== 🎉 That's it! =====\n",
    "            )\n",
    "        )\n",
    "    ]\n",
    ")"
   ]
  },
  {
   "cell_type": "markdown",
   "id": "bf70209f",
   "metadata": {},
   "source": [
    "![img/1_32_rq/rq-test-results.png](img/1_32_rq/rq-test-results.png)"
   ]
  },
  {
   "cell_type": "markdown",
   "id": "6a2d918e",
   "metadata": {},
   "source": [
    "<style>\n",
    ".admonition {\n",
    "    padding: 10px;\n",
    "    margin: 10px; \n",
    "    border-left: 4px solid;\n",
    "    border-radius: 4px;\n",
    "}\n",
    ".note { border-color: #007acc; background-color: #f0f8ff; }\n",
    ".warning { border-color: #ff6b6b; background-color: #fff5f5; }\n",
    "</style>\n",
    "\n",
    "<div class=\"admonition note\">\n",
    "<strong>Note:</strong> Rotational quantization is in technical preview in Weaviate 1.32\n",
    "</div>"
   ]
  },
  {
   "cell_type": "markdown",
   "id": "5521ea52",
   "metadata": {},
   "source": [
    "Coming soon (1.33?) - further quantization improvements\n",
    "\n",
    "- Lower bit precision\n",
    "- Nudges to make it easier to use quantization"
   ]
  },
  {
   "cell_type": "markdown",
   "id": "1547885a",
   "metadata": {},
   "source": [
    "### HNSW connection compression"
   ]
  },
  {
   "cell_type": "markdown",
   "id": "20c605cc",
   "metadata": {},
   "source": [
    "![img/1_32_hnsw/hnsw-overall.png](img/1_32_hnsw/hnsw-overall.png)"
   ]
  },
  {
   "cell_type": "markdown",
   "id": "b4903689",
   "metadata": {},
   "source": [
    "#### Connections"
   ]
  },
  {
   "cell_type": "markdown",
   "id": "b6daffcc",
   "metadata": {},
   "source": [
    "![img/1_32_hnsw/hnsw-params.png](img/1_32_hnsw/hnsw-params.png)"
   ]
  },
  {
   "cell_type": "markdown",
   "id": "85778263",
   "metadata": {},
   "source": [
    "Lots of connections between nodes in HNSW\n",
    "- Each node (vector) will typically have ~32/64 connections\n",
    "- At millions of vectors, this can be a lot of memory\n",
    "    - Especially for multi-vector embeddings\n",
    "\n",
    "**Connection compression reduces the memory footprint of these connections**"
   ]
  },
  {
   "cell_type": "markdown",
   "id": "aa1cb39a",
   "metadata": {},
   "source": [
    "#### User interface for compressed connections"
   ]
  },
  {
   "cell_type": "markdown",
   "id": "b9a4ca92",
   "metadata": {},
   "source": [
    "Nothing! 😜\n",
    "\n",
    "Just works out of the box, from 1.32 onwards."
   ]
  },
  {
   "cell_type": "markdown",
   "id": "da231be3",
   "metadata": {},
   "source": [
    "### Vectorizer refactor"
   ]
  },
  {
   "cell_type": "code",
   "execution_count": null,
   "id": "5cfa3004",
   "metadata": {},
   "outputs": [
    {
     "data": {
      "text/plain": [
       "<weaviate.collections.collection.sync.Collection at 0x11a034650>"
      ]
     },
     "execution_count": 3,
     "metadata": {},
     "output_type": "execute_result"
    }
   ],
   "source": [
    "from weaviate.classes.config import Configure, Property, DataType\n",
    "\n",
    "collection_name = \"Movies\"\n",
    "\n",
    "client.collections.delete(collection_name)\n",
    "\n",
    "client.collections.create(\n",
    "    collection_name,\n",
    "    properties=[\n",
    "        Property(name=\"title\", data_type=DataType.TEXT),\n",
    "        Property(name=\"body\", data_type=DataType.TEXT),\n",
    "    ],\n",
    "    vector_config=Configure.Vectors.text2vec_cohere()\n",
    ")"
   ]
  },
  {
   "cell_type": "code",
   "execution_count": null,
   "id": "f4a37b94",
   "metadata": {},
   "outputs": [
    {
     "data": {
      "text/plain": [
       "<weaviate.collections.collection.sync.Collection at 0x11a5dbf50>"
      ]
     },
     "execution_count": 5,
     "metadata": {},
     "output_type": "execute_result"
    }
   ],
   "source": [
    "from weaviate.classes.config import Configure, Property, DataType\n",
    "\n",
    "collection_name = \"Movies\"\n",
    "\n",
    "client.collections.delete(collection_name)\n",
    "\n",
    "client.collections.create(\n",
    "    collection_name,\n",
    "    properties=[\n",
    "        Property(name=\"title\", data_type=DataType.TEXT),\n",
    "        Property(name=\"body\", data_type=DataType.TEXT),\n",
    "    ],\n",
    "    vector_config=[\n",
    "        Configure.Vectors.text2vec_cohere(\n",
    "            name=\"default\"\n",
    "        ),\n",
    "        Configure.Vectors.text2vec_cohere(\n",
    "            name=\"title\",\n",
    "            source_properties=[\"title\"],\n",
    "        ),\n",
    "    ]\n",
    ")"
   ]
  },
  {
   "cell_type": "code",
   "execution_count": 13,
   "id": "1d4be95e",
   "metadata": {},
   "outputs": [],
   "source": [
    "objects = [\n",
    "    {\n",
    "        \"title\": \"Police Academy\",\n",
    "        \"body\": \"A group of misfits enter a police academy and become friends while training\"\n",
    "    },\n",
    "    {\n",
    "        \"title\": \"Police Academy 2\",\n",
    "        \"body\": \"The misfits from the first movie are now police officers and must stop a gang of criminals\"\n",
    "    },\n",
    "    {\n",
    "        \"title\": \"Police Academy 3\",\n",
    "        \"body\": \"The misfits are now instructors at the police academy and must train a new group of recruits\"\n",
    "    }\n",
    "]"
   ]
  },
  {
   "cell_type": "code",
   "execution_count": 14,
   "id": "d42b4943",
   "metadata": {},
   "outputs": [
    {
     "data": {
      "text/plain": [
       "BatchObjectReturn(_all_responses=[UUID('9b30cfbb-2798-4c79-bb7f-828b92e9b5c2'), UUID('c15d4c6d-9f85-454b-9bd7-9d6bf0dce2bf'), UUID('f2d74b09-70c2-4fab-b032-8ca5fb0318b1')], elapsed_seconds=0.30727601051330566, errors={}, uuids={0: UUID('9b30cfbb-2798-4c79-bb7f-828b92e9b5c2'), 1: UUID('c15d4c6d-9f85-454b-9bd7-9d6bf0dce2bf'), 2: UUID('f2d74b09-70c2-4fab-b032-8ca5fb0318b1')}, has_errors=False)"
      ]
     },
     "execution_count": 14,
     "metadata": {},
     "output_type": "execute_result"
    }
   ],
   "source": [
    "movies = client.collections.get(collection_name)\n",
    "\n",
    "movies.data.insert_many(objects=objects)"
   ]
  },
  {
   "cell_type": "code",
   "execution_count": 15,
   "id": "9f2e1140",
   "metadata": {},
   "outputs": [
    {
     "name": "stdout",
     "output_type": "stream",
     "text": [
      "\n",
      "Object ID: 9b30cfbb-2798-4c79-bb7f-828b92e9b5c2\n",
      "Vector default: [0.01995849609375, 0.037750244140625, 0.01806640625]...\n",
      "\n",
      "Object ID: c15d4c6d-9f85-454b-9bd7-9d6bf0dce2bf\n",
      "Vector default: [0.01316070556640625, 0.04937744140625, -0.030609130859375]...\n",
      "\n",
      "Object ID: f2d74b09-70c2-4fab-b032-8ca5fb0318b1\n",
      "Vector default: [0.021026611328125, 0.02020263671875, -0.0177154541015625]...\n"
     ]
    }
   ],
   "source": [
    "response = movies.query.fetch_objects(\n",
    "    limit=3,\n",
    "    include_vector=True\n",
    ")\n",
    "\n",
    "for o in response.objects:\n",
    "    print(f\"\\nObject ID: {o.uuid}\")\n",
    "    for k, v in o.vector.items():\n",
    "        print(f\"Vector {k}: {v[:3]}...\")"
   ]
  },
  {
   "cell_type": "markdown",
   "id": "b3905a54",
   "metadata": {},
   "source": [
    "### Others"
   ]
  },
  {
   "cell_type": "markdown",
   "id": "8b6bec8d",
   "metadata": {},
   "source": [
    "#### RBAC"
   ]
  },
  {
   "cell_type": "markdown",
   "id": "6a6d8dd5",
   "metadata": {},
   "source": [
    "- Option to include RBAC roles & users to Weaviate backups"
   ]
  },
  {
   "cell_type": "markdown",
   "id": "850cdab8",
   "metadata": {},
   "source": [
    "#### New model integrations"
   ]
  },
  {
   "cell_type": "markdown",
   "id": "cf094307",
   "metadata": {},
   "source": [
    "Support added for:\n",
    "\n",
    "- Gemini embedding models ([Google docs](https://cloud.google.com/vertex-ai/generative-ai/docs/model-reference/text-embeddings-api))\n",
    "  - `gemini-embedding-001`\n",
    "  - `text-embedding-005`\n",
    "  - `text-multilingual-embedding-002`\n",
    "\n",
    "- Transformers models\n",
    "  - `intfloat/multilingual-e5-large`\n",
    "  - `Qwen/Qwen3-Embedding-0.6B` \n",
    "  - `Qwen/Qwen3-Embedding-4B` "
   ]
  },
  {
   "cell_type": "markdown",
   "id": "34da65e9",
   "metadata": {},
   "source": []
  }
 ],
 "metadata": {
  "kernelspec": {
   "display_name": ".venv_prerelease",
   "language": "python",
   "name": "python3"
  },
  "language_info": {
   "codemirror_mode": {
    "name": "ipython",
    "version": 3
   },
   "file_extension": ".py",
   "mimetype": "text/x-python",
   "name": "python",
   "nbconvert_exporter": "python",
   "pygments_lexer": "ipython3",
   "version": "3.11.9"
  }
 },
 "nbformat": 4,
 "nbformat_minor": 5
}
