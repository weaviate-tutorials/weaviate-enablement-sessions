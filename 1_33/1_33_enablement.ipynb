{
 "cells": [
  {
   "cell_type": "markdown",
   "id": "3c8d2b79",
   "metadata": {},
   "source": [
    "# Weaviate 1.33 enablement session"
   ]
  },
  {
   "cell_type": "markdown",
   "id": "da8a1154",
   "metadata": {},
   "source": [
    "This notebook demonstrates all the major features introduced in Weaviate v1.33, including compression by default, advanced quantization, server-side batching, and more.\n",
    "\n",
    "## Table of Contents\n",
    "- [0. Setup and Prerequisites](#setup)\n",
    "- [1. Server-side Batch Imports (Preview)](#server-batch)\n",
    "- [2. Collection Aliases (GA)](#aliases)\n",
    "- [3. Compression by Default & 8-bit RQ (GA)](#compression-default)\n",
    "- [4. 1-bit Rotational Quantization (Preview)](#1bit-rq)\n",
    "- [5. New Filter Operators](#filters)\n",
    "- [6. OIDC Group Management](#oidc-groups)"
   ]
  },
  {
   "cell_type": "markdown",
   "id": "881db85c",
   "metadata": {},
   "source": [
    "<a id=\"setup\"></a>\n",
    "## Setup and prerequisites"
   ]
  },
  {
   "cell_type": "markdown",
   "id": "dcf126ba",
   "metadata": {},
   "source": [
    "Make sure you have the following:\n",
    "- `docker-compose-prerelease-1-33.yml` up and running (for steps 1-5)\n",
    "- `docker-compose-prerelease-1-33-keycloak.yml` up and running (for step 6)\n",
    "- Install the 1.33 dev Weaviate Python client:\n",
    "\n",
    "```bash\n",
    "!pip install git+https://github.com/weaviate/weaviate-python-client.git@feat/server-side-batching # For step 1\n",
    "!pip install weaviate-client==4.17.0-rc0 # For steps 2-6\n",
    "```"
   ]
  },
  {
   "cell_type": "code",
   "execution_count": 1,
   "id": "ff428f51",
   "metadata": {},
   "outputs": [
    {
     "name": "stdout",
     "output_type": "stream",
     "text": [
      "Connected to Weaviate: True\n",
      "Weaviate version: 1.33.0-rc.1\n"
     ]
    }
   ],
   "source": [
    "import os\n",
    "import weaviate\n",
    "from dotenv import load_dotenv\n",
    "from pprint import pprint\n",
    "\n",
    "# Load environment variables from .env file\n",
    "load_dotenv()\n",
    "\n",
    "# Connect to Weaviate instance\n",
    "client = weaviate.connect_to_local(\n",
    "    headers={\n",
    "        \"X-Openai-Api-Key\": os.environ[\n",
    "            \"OPENAI_API_KEY\"\n",
    "        ]  # Replace with your inference API key\n",
    "    }\n",
    ")\n",
    "\n",
    "# Check connection\n",
    "print(f\"Connected to Weaviate: {client.is_ready()}\")\n",
    "print(f\"Weaviate version: {client.get_meta()['version']}\")"
   ]
  },
  {
   "cell_type": "markdown",
   "id": "575ce1b3",
   "metadata": {},
   "source": [
    "<a id=\"server-batch\"></a>\n",
    "## 1. Server-side Batch Imports (Preview) ⚠️\n",
    "\n",
    "Server-side batching (automatic batching) lets the server optimize data ingestion for maximum performance.\n",
    "\n",
    "### Key advantages\n",
    "- ✅ **No manual tuning** - Server optimizes batch size automatically\n",
    "- ✅ **Dynamic backpressure** - Prevents server overload\n",
    "- ✅ **Asynchronous error handling** - Errors don't interrupt flow\n",
    "\n",
    "### Docs\n",
    "- [Concepts: Data import](https://v1-33-main--docs-weaviate-io.netlify.app/weaviate/concepts/data-import)"
   ]
  },
  {
   "cell_type": "code",
   "execution_count": 2,
   "id": "b093a44d",
   "metadata": {},
   "outputs": [],
   "source": [
    "from weaviate.classes.config import DataType, Property\n",
    "\n",
    "def create_collection(name):\n",
    "    client.collections.delete(name)  # Clean up previous test\n",
    "    # Create test collection\n",
    "    test_collection = client.collections.create(\n",
    "        name=name,\n",
    "        properties=[\n",
    "            Property(name=\"title\", data_type=DataType.TEXT),\n",
    "            Property(name=\"content\", data_type=DataType.TEXT),\n",
    "        ]\n",
    "    )\n",
    "\n",
    "# Example usage\n",
    "large_dataset = [\n",
    "    {\"title\": f\"Article {i}\", \"content\": f\"Content for article {i}...\"} \n",
    "    for i in range(1000)\n",
    "]"
   ]
  },
  {
   "cell_type": "code",
   "execution_count": 3,
   "id": "2dff538d",
   "metadata": {},
   "outputs": [
    {
     "name": "stdout",
     "output_type": "stream",
     "text": [
      "Imported 1000 objects with manual batching\n"
     ]
    }
   ],
   "source": [
    "# Traditional client-side batching (old way)\n",
    "def traditional_batching(collection_name, data_objects):\n",
    "    \"\"\"Manual batching - requires tuning batch_size and concurrent_requests\"\"\"\n",
    "    collection = client.collections.get(collection_name)\n",
    "    \n",
    "    # Manual configuration required\n",
    "    with collection.batch.fixed_size(\n",
    "        batch_size=100,  # Manual tuning needed\n",
    "        concurrent_requests=2  # Manual tuning needed\n",
    "    ) as batch:\n",
    "        for obj in data_objects:\n",
    "            batch.add_object(properties=obj)\n",
    "    \n",
    "    print(f\"Imported {len(collection)} objects with manual batching\")\n",
    "\n",
    "create_collection(\"BatchImportTest\")\n",
    "traditional_batching(\"BatchImportTest\", large_dataset)\n"
   ]
  },
  {
   "cell_type": "code",
   "execution_count": 4,
   "id": "d300ca31",
   "metadata": {},
   "outputs": [
    {
     "ename": "AttributeError",
     "evalue": "'_BatchCollectionWrapper' object has no attribute 'automatic'",
     "output_type": "error",
     "traceback": [
      "\u001b[0;31m---------------------------------------------------------------------------\u001b[0m",
      "\u001b[0;31mAttributeError\u001b[0m                            Traceback (most recent call last)",
      "Cell \u001b[0;32mIn[4], line 13\u001b[0m\n\u001b[1;32m      9\u001b[0m             batch\u001b[38;5;241m.\u001b[39madd_object(properties\u001b[38;5;241m=\u001b[39mobj)\n\u001b[1;32m     11\u001b[0m     \u001b[38;5;28mprint\u001b[39m(\u001b[38;5;124mf\u001b[39m\u001b[38;5;124m\"\u001b[39m\u001b[38;5;124m✅ Imported \u001b[39m\u001b[38;5;132;01m{\u001b[39;00m\u001b[38;5;28mlen\u001b[39m(data_objects)\u001b[38;5;132;01m}\u001b[39;00m\u001b[38;5;124m objects with automatic batching\u001b[39m\u001b[38;5;124m\"\u001b[39m)\n\u001b[0;32m---> 13\u001b[0m \u001b[43mautomatic_batching\u001b[49m\u001b[43m(\u001b[49m\u001b[38;5;124;43m\"\u001b[39;49m\u001b[38;5;124;43mBatchImportTest\u001b[39;49m\u001b[38;5;124;43m\"\u001b[39;49m\u001b[43m,\u001b[49m\u001b[43m \u001b[49m\u001b[43mlarge_dataset\u001b[49m\u001b[43m)\u001b[49m\n",
      "Cell \u001b[0;32mIn[4], line 7\u001b[0m, in \u001b[0;36mautomatic_batching\u001b[0;34m(collection_name, data_objects)\u001b[0m\n\u001b[1;32m      4\u001b[0m collection \u001b[38;5;241m=\u001b[39m client\u001b[38;5;241m.\u001b[39mcollections\u001b[38;5;241m.\u001b[39mget(collection_name)\n\u001b[1;32m      6\u001b[0m \u001b[38;5;66;03m# Server automatically optimizes everything!\u001b[39;00m\n\u001b[0;32m----> 7\u001b[0m \u001b[38;5;28;01mwith\u001b[39;00m \u001b[43mcollection\u001b[49m\u001b[38;5;241;43m.\u001b[39;49m\u001b[43mbatch\u001b[49m\u001b[38;5;241;43m.\u001b[39;49m\u001b[43mautomatic\u001b[49m() \u001b[38;5;28;01mas\u001b[39;00m batch:\n\u001b[1;32m      8\u001b[0m     \u001b[38;5;28;01mfor\u001b[39;00m obj \u001b[38;5;129;01min\u001b[39;00m data_objects:\n\u001b[1;32m      9\u001b[0m         batch\u001b[38;5;241m.\u001b[39madd_object(properties\u001b[38;5;241m=\u001b[39mobj)\n",
      "\u001b[0;31mAttributeError\u001b[0m: '_BatchCollectionWrapper' object has no attribute 'automatic'"
     ]
    }
   ],
   "source": [
    "# NEW: Server-side automatic batching (v1.33)\n",
    "def automatic_batching(collection_name, data_objects):\n",
    "    \"\"\"Server-side batching - automatic optimization!\"\"\"\n",
    "    collection = client.collections.get(collection_name)\n",
    "    \n",
    "    # Server automatically optimizes everything!\n",
    "    with collection.batch.automatic() as batch:\n",
    "        for obj in data_objects:\n",
    "            batch.add_object(properties=obj)\n",
    "            \n",
    "    print(f\"✅ Imported {len(data_objects)} objects with automatic batching\")\n",
    "\n",
    "automatic_batching(\"BatchImportTest\", large_dataset)"
   ]
  },
  {
   "cell_type": "markdown",
   "id": "24a550c6",
   "metadata": {},
   "source": [
    "<a id=\"aliases\"></a>\n",
    "## 2. Collection aliases (GA) 🎉\n",
    "\n",
    "Collection aliases enable zero-downtime migrations and flexible production deployments.\n",
    "\n",
    "### Key benefits\n",
    "- ✅ **Zero-downtime migrations** - Switch collections instantly\n",
    "- ✅ **A/B testing** - Test different configurations\n",
    "- ✅ **Blue-green deployments** - Seamless production updates\n",
    "- ✅ **Generally Available** - Production-ready!\n",
    "\n",
    "### Docs\n",
    "- [How-to: Collection aliases](https://v1-33-main--docs-weaviate-io.netlify.app/weaviate/manage-collections/collection-aliases)\n",
    "- [Reference: Collection definition](https://v1-33-main--docs-weaviate-io.netlify.app/weaviate/config-refs/collections#collection-aliases)"
   ]
  },
  {
   "cell_type": "code",
   "execution_count": null,
   "id": "053588dd",
   "metadata": {},
   "outputs": [
    {
     "name": "stdout",
     "output_type": "stream",
     "text": [
      "✅ Production collection 'Products_v1' created and populated\n"
     ]
    },
    {
     "data": {
      "text/plain": [
       "<weaviate.collections.collection.sync.Collection at 0x10be2fe20>"
      ]
     },
     "execution_count": 5,
     "metadata": {},
     "output_type": "execute_result"
    }
   ],
   "source": [
    "from weaviate.classes.config import Configure, DataType, Property, VectorDistances\n",
    "# Scenario: Migrating a production collection with zero downtime\n",
    "\n",
    "# Cleanup\n",
    "client.collections.delete(\"Products_v1\")  # Clean up previous test\n",
    "client.collections.delete(\"Products_v2\")  # Clean up previous test\n",
    "client.alias.delete(alias_name=\"ProductsAlias\")  # Clean up previous alias\n",
    "\n",
    "# Step 1: Create initial production collection\n",
    "def setup_production_collection():\n",
    "    \"\"\"Create initial production collection\"\"\"\n",
    "    v1_collection = client.collections.create(\n",
    "        name=\"Products_v1\",\n",
    "        properties=[\n",
    "            Property(name=\"name\", data_type=DataType.TEXT),\n",
    "            Property(name=\"description\", data_type=DataType.TEXT),\n",
    "            Property(name=\"price\", data_type=DataType.NUMBER),\n",
    "            Property(name=\"category\", data_type=DataType.TEXT),\n",
    "        ],\n",
    "        vector_config=Configure.Vectors.text2vec_openai()\n",
    "    )\n",
    "    \n",
    "    # Import production data\n",
    "    products = [\n",
    "        {\"name\": \"Laptop Pro\", \"description\": \"High-performance laptop\", \"price\": 1299.99, \"category\": \"electronics\"},\n",
    "        {\"name\": \"Wireless Mouse\", \"description\": \"Ergonomic wireless mouse\", \"price\": 29.99, \"category\": \"accessories\"},\n",
    "        {\"name\": \"USB-C Hub\", \"description\": \"7-in-1 USB-C hub\", \"price\": 49.99, \"category\": \"accessories\"},\n",
    "    ]\n",
    "    \n",
    "    with v1_collection.batch.fixed_size() as batch:\n",
    "        for product in products:\n",
    "            batch.add_object(properties=product)\n",
    "    \n",
    "    print(\"✅ Production collection 'Products_v1' created and populated\")\n",
    "    return v1_collection\n",
    "\n",
    "setup_production_collection()"
   ]
  },
  {
   "cell_type": "code",
   "execution_count": null,
   "id": "fee2ca93",
   "metadata": {},
   "outputs": [
    {
     "name": "stdout",
     "output_type": "stream",
     "text": [
      "✅ Alias 'ProductsAlias' -> 'Products_v1' created\n"
     ]
    }
   ],
   "source": [
    "# Step 2: Create alias pointing to production\n",
    "def create_production_alias():\n",
    "    \"\"\"Create alias for production use\"\"\"\n",
    "    client.alias.create(\n",
    "        alias_name=\"ProductsAlias\",  # This is what applications use\n",
    "        target_collection=\"Products_v1\"\n",
    "    )\n",
    "    print(\"✅ Alias 'ProductsAlias' -> 'Products_v1' created\")\n",
    "\n",
    "create_production_alias()"
   ]
  },
  {
   "cell_type": "code",
   "execution_count": null,
   "id": "98d81db0",
   "metadata": {},
   "outputs": [
    {
     "name": "stdout",
     "output_type": "stream",
     "text": [
      "\n",
      "🔍 Query results via alias 'Products':\n",
      "  - Laptop Pro: $1299.99\n",
      "  - Wireless Mouse: $29.99\n",
      "  - USB-C Hub: $49.99\n"
     ]
    }
   ],
   "source": [
    "# Step 3: Applications use the alias (not the versioned name)\n",
    "def application_query():\n",
    "    \"\"\"Simulate application querying via alias\"\"\"\n",
    "    # Application always uses the alias, not version-specific names\n",
    "    products = client.collections.use(\"ProductsAlias\")  # Using alias!\n",
    "    \n",
    "    results = products.query.near_text(\n",
    "        query=\"laptop accessories\",\n",
    "        limit=3\n",
    "    )\n",
    "    \n",
    "    print(\"\\n🔍 Query results via alias 'Products':\")\n",
    "    for item in results.objects:\n",
    "        print(f\"  - {item.properties['name']}: ${item.properties['price']}\")\n",
    "\n",
    "application_query()"
   ]
  },
  {
   "cell_type": "code",
   "execution_count": null,
   "id": "d58aa848",
   "metadata": {},
   "outputs": [
    {
     "name": "stdout",
     "output_type": "stream",
     "text": [
      "\n",
      "✅ Version 2 collection 'Products_v2' ready.\n"
     ]
    }
   ],
   "source": [
    "client.collections.delete(\"Products_v2\")  # Clean up previous test\n",
    "# Step 4: Prepare new version with improvements\n",
    "def prepare_v2_collection():\n",
    "    \"\"\"Create improved v2 collection\"\"\"\n",
    "    v2_collection = client.collections.create(\n",
    "        name=\"Products_v2\",\n",
    "        properties=[\n",
    "            Property(name=\"name\", data_type=DataType.TEXT),\n",
    "            Property(name=\"description\", data_type=DataType.TEXT),\n",
    "            Property(name=\"price\", data_type=DataType.NUMBER),\n",
    "            Property(name=\"category\", data_type=DataType.TEXT),\n",
    "            Property(name=\"brand\", data_type=DataType.TEXT),  # NEW field\n",
    "            Property(name=\"in_stock\", data_type=DataType.BOOL),  # NEW field\n",
    "        ],\n",
    "        vector_config=Configure.Vectors.text2vec_openai(\n",
    "            vector_index_config=Configure.VectorIndex.hnsw(\n",
    "                distance_metric=VectorDistances.COSINE,\n",
    "                ef=256,  # Improved search quality\n",
    "                quantizer=Configure.VectorIndex.Quantizer.rq(),  # Using new default RQ\n",
    "            )\n",
    "        ),\n",
    "    )\n",
    "\n",
    "    # Migrate and enhance data\n",
    "    enhanced_products = [\n",
    "        {\n",
    "            \"name\": \"Laptop Pro 2\",\n",
    "            \"description\": \"High-performance laptop\",\n",
    "            \"price\": 1299.99,\n",
    "            \"category\": \"electronics\",\n",
    "            \"brand\": \"TechCorp\",\n",
    "            \"in_stock\": True,\n",
    "        },\n",
    "        {\n",
    "            \"name\": \"Wireless Mouse\",\n",
    "            \"description\": \"Ergonomic wireless mouse\",\n",
    "            \"price\": 29.99,\n",
    "            \"category\": \"accessories\",\n",
    "            \"brand\": \"Logitech\",\n",
    "            \"in_stock\": True,\n",
    "        },\n",
    "        {\n",
    "            \"name\": \"USB-C Hub\",\n",
    "            \"description\": \"7-in-1 USB-C hub\",\n",
    "            \"price\": 49.99,\n",
    "            \"category\": \"accessories\",\n",
    "            \"brand\": \"Anker\",\n",
    "            \"in_stock\": False,\n",
    "        },\n",
    "    ]\n",
    "\n",
    "    with v2_collection.batch.fixed_size() as batch:\n",
    "        for product in enhanced_products:\n",
    "            batch.add_object(properties=product)\n",
    "\n",
    "    print(\"\\n✅ Version 2 collection 'Products_v2' ready.\")\n",
    "\n",
    "\n",
    "prepare_v2_collection()"
   ]
  },
  {
   "cell_type": "code",
   "execution_count": null,
   "id": "2ce45d7b",
   "metadata": {},
   "outputs": [],
   "source": [
    "# Step 5: Zero-downtime migration\n",
    "def perform_zero_downtime_migration():\n",
    "    \"\"\"Switch alias to new version with zero downtime\"\"\"\n",
    "    print(\"\\n🔄 Performing zero-downtime migration...\")\n",
    "    \n",
    "    # Update alias to point to v2\n",
    "    client.alias.update(\n",
    "        alias_name=\"ProductsAlias\",\n",
    "        new_target_collection=\"Products_v2\"\n",
    "    )\n",
    "\n",
    "    print(\"✅ Migration complete! 'ProductsAlias' now points to 'Products_v2'\")"
   ]
  },
  {
   "cell_type": "code",
   "execution_count": null,
   "id": "07d20065",
   "metadata": {},
   "outputs": [
    {
     "name": "stdout",
     "output_type": "stream",
     "text": [
      "\n",
      "📋 Configured Aliases:\n",
      "Alias: ProductsAlias\n",
      "Alias: TmpAlias\n"
     ]
    }
   ],
   "source": [
    "# Step 6: Rollback if needed\n",
    "def rollback_if_needed():\n",
    "    \"\"\"Emergency rollback to previous version\"\"\"\n",
    "    print(\"\\n⚠️ Issue detected - performing rollback...\")\n",
    "\n",
    "    client.alias.update(alias_name=\"ProductsAlias\", new_target_collection=\"Products_v1\")\n",
    "\n",
    "    print(\"✅ Rolled back to 'Products_v1'\")\n",
    "    print(\"🔧 Fix issues in v2 and try again\")\n",
    "\n",
    "\n",
    "# List all aliases\n",
    "def list_all_aliases():\n",
    "    \"\"\"Display all configured aliases\"\"\"\n",
    "    aliases = client.alias.list_all()\n",
    "    print(\"\\n📋 Configured Aliases:\")\n",
    "    for alias in aliases:\n",
    "        print(f\"Alias: {alias}\")\n",
    "\n",
    "\n",
    "client.alias.create(alias_name=\"TmpAlias\", target_collection=\"Products_v2\")\n",
    "list_all_aliases()"
   ]
  },
  {
   "cell_type": "markdown",
   "id": "5e93e846",
   "metadata": {},
   "source": [
    "<a id=\"compression-default\"></a>\n",
    "## 3. Compression by default & 8-bit RQ (GA)\n",
    "\n",
    "Starting with v1.33, **8-bit Rotational Quantization (RQ) is enabled by default** for all new collections. This provides up to 4x memory compression while maintaining 98-99% recall.\n",
    "\n",
    "### Key benefits\n",
    "- ✅ **Automatic optimization** - No configuration needed by users\n",
    "- ✅ **Up-to 4x memory compression** - Significant resource savings\n",
    "- ✅ **98-99% recall maintained** - Minimal accuracy loss with internal dataset testing\n",
    "- ✅ **No training phase** - Works immediately at index creation\n",
    "- ✅ **Generally Available (GA)** - Production-ready\n",
    "\n",
    "### Docs\n",
    "- [How-to: Rotational Quantization (RQ)](https://v1-33-main--docs-weaviate-io.netlify.app/weaviate/configuration/compression/rq-compression)\n",
    "- [Concepts: Rotational Quantization (RQ)](https://v1-33-main--docs-weaviate-io.netlify.app/weaviate/concepts/vector-quantization#rotational-quantization)\n",
    "- [Environment variable: DEFAULT_QUANTIZATION](https://v1-33-main--docs-weaviate-io.netlify.app/deploy/configuration/env-vars#DEFAULT_QUANTIZATION)"
   ]
  },
  {
   "cell_type": "code",
   "execution_count": null,
   "id": "e33482de",
   "metadata": {},
   "outputs": [
    {
     "name": "stdout",
     "output_type": "stream",
     "text": [
      "✅ Collection created with default RQ compression enabled!\n",
      "Quantization config: {'default': _NamedVectorConfig(vectorizer=_NamedVectorizerConfig(vectorizer=<Vectorizers.TEXT2VEC_OPENAI: 'text2vec-openai'>, model={'baseURL': 'https://api.openai.com', 'isAzure': False, 'model': 'text-embedding-3-small', 'vectorizeClassName': True}, source_properties=None), vector_index_config=_VectorIndexConfigHNSW(multi_vector=None, quantizer=_RQConfig(bits=8, rescore_limit=20), cleanup_interval_seconds=300, distance_metric=<VectorDistances.COSINE: 'cosine'>, dynamic_ef_min=100, dynamic_ef_max=500, dynamic_ef_factor=8, ef=-1, ef_construction=128, filter_strategy=<VectorFilterStrategy.SWEEPING: 'sweeping'>, flat_search_cutoff=40000, max_connections=32, skip=False, vector_cache_max_objects=1000000000000))}\n"
     ]
    }
   ],
   "source": [
    "from weaviate import classes as wvc\n",
    "\n",
    "client.collections.delete(\"Articles_Compressed_Default\")  # Clean up previous test\n",
    "# Create a collection - RQ compression is now enabled by default!\n",
    "default_compressed_collection = client.collections.create(\n",
    "    name=\"Articles_Compressed_Default\",\n",
    "    properties=[\n",
    "        Property(name=\"title\", data_type=DataType.TEXT),\n",
    "        Property(name=\"content\", data_type=DataType.TEXT),\n",
    "        Property(name=\"author\", data_type=DataType.TEXT),\n",
    "    ],\n",
    "    vector_config=Configure.Vectors.text2vec_openai()\n",
    ")\n",
    "\n",
    "print(\"✅ Collection created with default RQ compression enabled!\")\n",
    "\n",
    "# Verify compression settings\n",
    "collection_config = client.collections.get(\"Articles_Compressed_Default\").config.get()\n",
    "print(f\"Quantization config: {collection_config.vector_config}\")"
   ]
  },
  {
   "cell_type": "markdown",
   "id": "5d6dbcf7",
   "metadata": {},
   "source": [
    "### Change default compression technique"
   ]
  },
  {
   "cell_type": "code",
   "execution_count": null,
   "id": "9f38cdd4",
   "metadata": {},
   "outputs": [
    {
     "name": "stdout",
     "output_type": "stream",
     "text": [
      "✅ Collection created without compression (override default)\n",
      "(\"Quantization config: {'default': \"\n",
      " '_NamedVectorConfig(vectorizer=_NamedVectorizerConfig(vectorizer=<Vectorizers.TEXT2VEC_OPENAI: '\n",
      " \"'text2vec-openai'>, model={'baseURL': 'https://api.openai.com', 'isAzure': \"\n",
      " \"False, 'model': 'text-embedding-3-small', 'vectorizeClassName': True}, \"\n",
      " 'source_properties=None), '\n",
      " 'vector_index_config=_VectorIndexConfigHNSW(multi_vector=None, '\n",
      " 'quantizer=None, cleanup_interval_seconds=300, '\n",
      " \"distance_metric=<VectorDistances.COSINE: 'cosine'>, dynamic_ef_min=100, \"\n",
      " 'dynamic_ef_max=500, dynamic_ef_factor=8, ef=-1, ef_construction=128, '\n",
      " \"filter_strategy=<VectorFilterStrategy.SWEEPING: 'sweeping'>, \"\n",
      " 'flat_search_cutoff=40000, max_connections=32, skip=False, '\n",
      " 'vector_cache_max_objects=1000000000000))}')\n"
     ]
    }
   ],
   "source": [
    "# To disable compression by default (set in environment before starting Weaviate)\n",
    "# DEFAULT_QUANTIZATION=none\n",
    "\n",
    "# To use PQ instead of RQ as default\n",
    "# DEFAULT_QUANTIZATION=pq\n",
    "\n",
    "client.collections.delete(\"Articles_Uncompressed\")  # Clean up previous test\n",
    "# Example: Creating a collection without compression (override default)\n",
    "uncompressed_collection = client.collections.create(\n",
    "    name=\"Articles_Uncompressed\",\n",
    "    properties=[\n",
    "        Property(name=\"title\", data_type=DataType.TEXT),\n",
    "        Property(name=\"content\", data_type=DataType.TEXT),\n",
    "    ],\n",
    "    vector_config=Configure.Vectors.text2vec_openai(\n",
    "        vector_index_config=Configure.VectorIndex.hnsw(\n",
    "            quantizer=Configure.VectorIndex.Quantizer.none()  # Explicitly disable quantization\n",
    "        )\n",
    "    ),\n",
    ")\n",
    "\n",
    "print(\"✅ Collection created without compression (override default)\")\n",
    "\n",
    "# Verify compression settings\n",
    "collection_config = client.collections.get(\"Articles_Uncompressed\").config.get()\n",
    "pprint(f\"Quantization config: {collection_config.vector_config}\")"
   ]
  },
  {
   "cell_type": "markdown",
   "id": "5b4671a1",
   "metadata": {},
   "source": [
    "<a id=\"1bit-rq\"></a>\n",
    "## 4. 1-bit Rotational Quantization (Preview) ⚠️\n",
    "\n",
    "**1-bit RQ** is a cutting-edge preview feature offering extreme compression (up to 32x) while maintaining reasonable recall.\n",
    "\n",
    "### ⚠️ Important Considerations:\n",
    "- **Preview feature** - Not recommended for production\n",
    "- **Asymmetric quantization** - 1-bit for data, 5-bit for queries\n",
    "- **Better than Binary Quantization (BQ)** - More robust on challenging datasets\n",
    "- **Throughput decrease compared to BQ** - But offers better recall on some datasets\n"
   ]
  },
  {
   "cell_type": "code",
   "execution_count": null,
   "id": "924daddc",
   "metadata": {},
   "outputs": [
    {
     "name": "stdout",
     "output_type": "stream",
     "text": [
      "⚠️ Collection created with 1-bit RQ (Preview feature)\n",
      "(\"Quantization config: {'default': \"\n",
      " '_NamedVectorConfig(vectorizer=_NamedVectorizerConfig(vectorizer=<Vectorizers.TEXT2VEC_OPENAI: '\n",
      " \"'text2vec-openai'>, model={'baseURL': 'https://api.openai.com', 'isAzure': \"\n",
      " \"False, 'model': 'text-embedding-3-small', 'vectorizeClassName': True}, \"\n",
      " 'source_properties=None), '\n",
      " 'vector_index_config=_VectorIndexConfigHNSW(multi_vector=None, '\n",
      " 'quantizer=_RQConfig(bits=1, rescore_limit=512), '\n",
      " 'cleanup_interval_seconds=300, distance_metric=<VectorDistances.COSINE: '\n",
      " \"'cosine'>, dynamic_ef_min=100, dynamic_ef_max=500, dynamic_ef_factor=8, \"\n",
      " 'ef=-1, ef_construction=128, filter_strategy=<VectorFilterStrategy.SWEEPING: '\n",
      " \"'sweeping'>, flat_search_cutoff=40000, max_connections=32, skip=False, \"\n",
      " 'vector_cache_max_objects=1000000000000))}')\n"
     ]
    }
   ],
   "source": [
    "client.collections.delete(\"Articles_1bit_RQ_Preview\")  # Clean up previous test\n",
    "# Create a collection with 1-bit RQ (PREVIEW - NOT FOR PRODUCTION)\n",
    "one_bit_collection = client.collections.create(\n",
    "    name=\"Articles_1bit_RQ_Preview\",\n",
    "    properties=[\n",
    "        Property(name=\"title\", data_type=DataType.TEXT),\n",
    "        Property(name=\"content\", data_type=DataType.TEXT),\n",
    "    ],\n",
    "    vector_config=Configure.Vectors.text2vec_openai(\n",
    "        vector_index_config=Configure.VectorIndex.hnsw(\n",
    "            quantizer=Configure.VectorIndex.Quantizer.rq(\n",
    "                bits=1,  # 1-bit quantization\n",
    "            )\n",
    "        )\n",
    "    ),\n",
    ")\n",
    "\n",
    "print(\"⚠️ Collection created with 1-bit RQ (Preview feature)\")\n",
    "\n",
    "# Verify compression settings\n",
    "collection_config = client.collections.get(\"Articles_1bit_RQ_Preview\").config.get()\n",
    "pprint(f\"Quantization config: {collection_config.vector_config}\")"
   ]
  },
  {
   "cell_type": "code",
   "execution_count": null,
   "id": "a3a889e8",
   "metadata": {},
   "outputs": [],
   "source": [
    "client.close()"
   ]
  },
  {
   "cell_type": "markdown",
   "id": "a2e18961",
   "metadata": {},
   "source": [
    "<a id=\"filters\"></a>\n",
    "## 5. New filter operators: `ContainsNone` and `Not`\n",
    "\n",
    "Enhanced filtering capabilities with two new operators:\n",
    "\n",
    "- **`ContainsNone` Operator**\n",
    "    Returns objects where the property contains **none** of the specified values.\n",
    "\n",
    "- **`Not` Operator**\n",
    "    Provides logical negation of conditions."
   ]
  },
  {
   "cell_type": "code",
   "execution_count": 5,
   "id": "43984910",
   "metadata": {},
   "outputs": [],
   "source": [
    "client.collections.delete(\"Articles\")  # Clean up previous test\n",
    "# Create collection\n",
    "collection = client.collections.create(\n",
    "    name=\"Articles\",\n",
    "    properties=[\n",
    "        Property(name=\"title\", data_type=DataType.TEXT),\n",
    "        Property(name=\"tags\", data_type=DataType.TEXT_ARRAY),\n",
    "        Property(name=\"category\", data_type=DataType.TEXT),\n",
    "        Property(name=\"views\", data_type=DataType.NUMBER),\n",
    "    ]\n",
    ")\n",
    "\n",
    "# Add 5 sample articles\n",
    "articles = [\n",
    "    {\"title\": \"AI Revolution\", \"tags\": [\"tech\", \"ai\"], \"category\": \"technology\", \"views\": 1500},\n",
    "    {\"title\": \"World Cup Final\", \"tags\": [\"sports\", \"soccer\"], \"category\": \"sports\", \"views\": 5000},\n",
    "    {\"title\": \"Healthy Recipes\", \"tags\": [\"food\", \"health\"], \"category\": \"lifestyle\", \"views\": 800},\n",
    "    {\"title\": \"Stock Market Update\", \"tags\": [\"finance\", \"news\"], \"category\": \"business\", \"views\": 2000},\n",
    "    {\"title\": \"Python Tutorial\", \"tags\": [\"tech\", \"programming\"], \"category\": \"education\", \"views\": 300},\n",
    "]\n",
    "\n",
    "with collection.batch.fixed_size() as batch:\n",
    "    for article in articles:\n",
    "        batch.add_object(properties=article)"
   ]
  },
  {
   "cell_type": "markdown",
   "id": "29438ca4",
   "metadata": {},
   "source": [
    "Now, let's query the data:"
   ]
  },
  {
   "cell_type": "code",
   "execution_count": null,
   "id": "482582b5",
   "metadata": {},
   "outputs": [
    {
     "name": "stdout",
     "output_type": "stream",
     "text": [
      "=== ContainsNone operator example ===\n"
     ]
    },
    {
     "ename": "AssertionError",
     "evalue": "",
     "output_type": "error",
     "traceback": [
      "\u001b[0;31m---------------------------------------------------------------------------\u001b[0m",
      "\u001b[0;31mAssertionError\u001b[0m                            Traceback (most recent call last)",
      "Cell \u001b[0;32mIn[8], line 8\u001b[0m\n\u001b[1;32m      6\u001b[0m \u001b[38;5;66;03m# ContainsNone: Find articles WITHOUT sports or news tags\u001b[39;00m\n\u001b[1;32m      7\u001b[0m \u001b[38;5;28mprint\u001b[39m(\u001b[38;5;124m\"\u001b[39m\u001b[38;5;124m=== ContainsNone operator example ===\u001b[39m\u001b[38;5;124m\"\u001b[39m)\n\u001b[0;32m----> 8\u001b[0m results \u001b[38;5;241m=\u001b[39m \u001b[43mcollection\u001b[49m\u001b[38;5;241;43m.\u001b[39;49m\u001b[43mquery\u001b[49m\u001b[38;5;241;43m.\u001b[39;49m\u001b[43mfetch_objects\u001b[49m\u001b[43m(\u001b[49m\n\u001b[1;32m      9\u001b[0m \u001b[43m    \u001b[49m\u001b[43mfilters\u001b[49m\u001b[38;5;241;43m=\u001b[39;49m\u001b[43mFilter\u001b[49m\u001b[38;5;241;43m.\u001b[39;49m\u001b[43mby_property\u001b[49m\u001b[43m(\u001b[49m\u001b[38;5;124;43m\"\u001b[39;49m\u001b[38;5;124;43mtags\u001b[39;49m\u001b[38;5;124;43m\"\u001b[39;49m\u001b[43m)\u001b[49m\u001b[38;5;241;43m.\u001b[39;49m\u001b[43mcontains_none\u001b[49m\u001b[43m(\u001b[49m\u001b[43m[\u001b[49m\u001b[38;5;124;43m\"\u001b[39;49m\u001b[38;5;124;43msports\u001b[39;49m\u001b[38;5;124;43m\"\u001b[39;49m\u001b[43m,\u001b[49m\u001b[43m \u001b[49m\u001b[38;5;124;43m\"\u001b[39;49m\u001b[38;5;124;43mnews\u001b[39;49m\u001b[38;5;124;43m\"\u001b[39;49m\u001b[43m]\u001b[49m\u001b[43m)\u001b[49m\u001b[43m,\u001b[49m\u001b[43m \u001b[49m\u001b[43mlimit\u001b[49m\u001b[38;5;241;43m=\u001b[39;49m\u001b[38;5;241;43m5\u001b[39;49m\n\u001b[1;32m     10\u001b[0m \u001b[43m)\u001b[49m\n\u001b[1;32m     11\u001b[0m \u001b[38;5;28;01mfor\u001b[39;00m obj \u001b[38;5;129;01min\u001b[39;00m results\u001b[38;5;241m.\u001b[39mobjects:\n\u001b[1;32m     12\u001b[0m     \u001b[38;5;28mprint\u001b[39m(\u001b[38;5;124mf\u001b[39m\u001b[38;5;124m\"\u001b[39m\u001b[38;5;124m- \u001b[39m\u001b[38;5;132;01m{\u001b[39;00mobj\u001b[38;5;241m.\u001b[39mproperties[\u001b[38;5;124m'\u001b[39m\u001b[38;5;124mtitle\u001b[39m\u001b[38;5;124m'\u001b[39m]\u001b[38;5;132;01m}\u001b[39;00m\u001b[38;5;124m: \u001b[39m\u001b[38;5;132;01m{\u001b[39;00mobj\u001b[38;5;241m.\u001b[39mproperties[\u001b[38;5;124m'\u001b[39m\u001b[38;5;124mtags\u001b[39m\u001b[38;5;124m'\u001b[39m]\u001b[38;5;132;01m}\u001b[39;00m\u001b[38;5;124m\"\u001b[39m)\n",
      "File \u001b[0;32m~/.pyenv/versions/3.10.16/lib/python3.10/site-packages/weaviate/collections/queries/fetch_objects/query/executor.py:189\u001b[0m, in \u001b[0;36m_FetchObjectsQueryExecutor.fetch_objects\u001b[0;34m(self, limit, offset, after, filters, sort, include_vector, return_metadata, return_properties, return_references)\u001b[0m\n\u001b[1;32m    172\u001b[0m \u001b[38;5;28;01mdef\u001b[39;00m \u001b[38;5;21mresp\u001b[39m(\n\u001b[1;32m    173\u001b[0m     res: search_get_pb2\u001b[38;5;241m.\u001b[39mSearchReply,\n\u001b[1;32m    174\u001b[0m ) \u001b[38;5;241m-\u001b[39m\u001b[38;5;241m>\u001b[39m QueryReturnType[Properties, References, TProperties, TReferences]:\n\u001b[1;32m    175\u001b[0m     \u001b[38;5;28;01mreturn\u001b[39;00m cast(\n\u001b[1;32m    176\u001b[0m         Any,\n\u001b[1;32m    177\u001b[0m         \u001b[38;5;28mself\u001b[39m\u001b[38;5;241m.\u001b[39m_result_to_query_return(\n\u001b[0;32m   (...)\u001b[0m\n\u001b[1;32m    186\u001b[0m         ),\n\u001b[1;32m    187\u001b[0m     )\n\u001b[0;32m--> 189\u001b[0m request \u001b[38;5;241m=\u001b[39m \u001b[38;5;28;43mself\u001b[39;49m\u001b[38;5;241;43m.\u001b[39;49m\u001b[43m_query\u001b[49m\u001b[38;5;241;43m.\u001b[39;49m\u001b[43mget\u001b[49m\u001b[43m(\u001b[49m\n\u001b[1;32m    190\u001b[0m \u001b[43m    \u001b[49m\u001b[43mlimit\u001b[49m\u001b[38;5;241;43m=\u001b[39;49m\u001b[43mlimit\u001b[49m\u001b[43m,\u001b[49m\n\u001b[1;32m    191\u001b[0m \u001b[43m    \u001b[49m\u001b[43moffset\u001b[49m\u001b[38;5;241;43m=\u001b[39;49m\u001b[43moffset\u001b[49m\u001b[43m,\u001b[49m\n\u001b[1;32m    192\u001b[0m \u001b[43m    \u001b[49m\u001b[43mafter\u001b[49m\u001b[38;5;241;43m=\u001b[39;49m\u001b[43mafter\u001b[49m\u001b[43m,\u001b[49m\n\u001b[1;32m    193\u001b[0m \u001b[43m    \u001b[49m\u001b[43mfilters\u001b[49m\u001b[38;5;241;43m=\u001b[39;49m\u001b[43mfilters\u001b[49m\u001b[43m,\u001b[49m\n\u001b[1;32m    194\u001b[0m \u001b[43m    \u001b[49m\u001b[43msort\u001b[49m\u001b[38;5;241;43m=\u001b[39;49m\u001b[43msort\u001b[49m\u001b[43m,\u001b[49m\n\u001b[1;32m    195\u001b[0m \u001b[43m    \u001b[49m\u001b[43mreturn_metadata\u001b[49m\u001b[38;5;241;43m=\u001b[39;49m\u001b[38;5;28;43mself\u001b[39;49m\u001b[38;5;241;43m.\u001b[39;49m\u001b[43m_parse_return_metadata\u001b[49m\u001b[43m(\u001b[49m\u001b[43mreturn_metadata\u001b[49m\u001b[43m,\u001b[49m\u001b[43m \u001b[49m\u001b[43minclude_vector\u001b[49m\u001b[43m)\u001b[49m\u001b[43m,\u001b[49m\n\u001b[1;32m    196\u001b[0m \u001b[43m    \u001b[49m\u001b[43mreturn_properties\u001b[49m\u001b[38;5;241;43m=\u001b[39;49m\u001b[38;5;28;43mself\u001b[39;49m\u001b[38;5;241;43m.\u001b[39;49m\u001b[43m_parse_return_properties\u001b[49m\u001b[43m(\u001b[49m\u001b[43mreturn_properties\u001b[49m\u001b[43m)\u001b[49m\u001b[43m,\u001b[49m\n\u001b[1;32m    197\u001b[0m \u001b[43m    \u001b[49m\u001b[43mreturn_references\u001b[49m\u001b[38;5;241;43m=\u001b[39;49m\u001b[38;5;28;43mself\u001b[39;49m\u001b[38;5;241;43m.\u001b[39;49m\u001b[43m_parse_return_references\u001b[49m\u001b[43m(\u001b[49m\u001b[43mcast\u001b[49m\u001b[43m(\u001b[49m\u001b[43mAny\u001b[49m\u001b[43m,\u001b[49m\u001b[43m \u001b[49m\u001b[43mreturn_references\u001b[49m\u001b[43m)\u001b[49m\u001b[43m)\u001b[49m\u001b[43m,\u001b[49m\n\u001b[1;32m    198\u001b[0m \u001b[43m\u001b[49m\u001b[43m)\u001b[49m\n\u001b[1;32m    199\u001b[0m \u001b[38;5;28;01mreturn\u001b[39;00m executor\u001b[38;5;241m.\u001b[39mexecute(\n\u001b[1;32m    200\u001b[0m     response_callback\u001b[38;5;241m=\u001b[39mresp,\n\u001b[1;32m    201\u001b[0m     method\u001b[38;5;241m=\u001b[39m\u001b[38;5;28mself\u001b[39m\u001b[38;5;241m.\u001b[39m_connection\u001b[38;5;241m.\u001b[39mgrpc_search,\n\u001b[1;32m    202\u001b[0m     request\u001b[38;5;241m=\u001b[39mrequest,\n\u001b[1;32m    203\u001b[0m )\n",
      "File \u001b[0;32m~/.pyenv/versions/3.10.16/lib/python3.10/site-packages/weaviate/collections/grpc/query.py:136\u001b[0m, in \u001b[0;36m_QueryGRPC.get\u001b[0;34m(self, limit, offset, after, filters, sort, return_metadata, return_properties, return_references, generative, rerank)\u001b[0m\n\u001b[1;32m    133\u001b[0m \u001b[38;5;28;01melse\u001b[39;00m:\n\u001b[1;32m    134\u001b[0m     sort_by \u001b[38;5;241m=\u001b[39m \u001b[38;5;28;01mNone\u001b[39;00m\n\u001b[0;32m--> 136\u001b[0m \u001b[38;5;28;01mreturn\u001b[39;00m \u001b[38;5;28;43mself\u001b[39;49m\u001b[38;5;241;43m.\u001b[39;49m\u001b[43m__create_request\u001b[49m\u001b[43m(\u001b[49m\n\u001b[1;32m    137\u001b[0m \u001b[43m    \u001b[49m\u001b[43mafter\u001b[49m\u001b[38;5;241;43m=\u001b[39;49m\u001b[43mafter\u001b[49m\u001b[43m,\u001b[49m\n\u001b[1;32m    138\u001b[0m \u001b[43m    \u001b[49m\u001b[43mlimit\u001b[49m\u001b[38;5;241;43m=\u001b[39;49m\u001b[43mlimit\u001b[49m\u001b[43m,\u001b[49m\n\u001b[1;32m    139\u001b[0m \u001b[43m    \u001b[49m\u001b[43moffset\u001b[49m\u001b[38;5;241;43m=\u001b[39;49m\u001b[43moffset\u001b[49m\u001b[43m,\u001b[49m\n\u001b[1;32m    140\u001b[0m \u001b[43m    \u001b[49m\u001b[43mfilters\u001b[49m\u001b[38;5;241;43m=\u001b[39;49m\u001b[43mfilters\u001b[49m\u001b[43m,\u001b[49m\n\u001b[1;32m    141\u001b[0m \u001b[43m    \u001b[49m\u001b[43mmetadata\u001b[49m\u001b[38;5;241;43m=\u001b[39;49m\u001b[43mreturn_metadata\u001b[49m\u001b[43m,\u001b[49m\n\u001b[1;32m    142\u001b[0m \u001b[43m    \u001b[49m\u001b[43mreturn_properties\u001b[49m\u001b[38;5;241;43m=\u001b[39;49m\u001b[43mreturn_properties\u001b[49m\u001b[43m,\u001b[49m\n\u001b[1;32m    143\u001b[0m \u001b[43m    \u001b[49m\u001b[43mreturn_references\u001b[49m\u001b[38;5;241;43m=\u001b[39;49m\u001b[43mreturn_references\u001b[49m\u001b[43m,\u001b[49m\n\u001b[1;32m    144\u001b[0m \u001b[43m    \u001b[49m\u001b[43mgenerative\u001b[49m\u001b[38;5;241;43m=\u001b[39;49m\u001b[43mgenerative\u001b[49m\u001b[43m,\u001b[49m\n\u001b[1;32m    145\u001b[0m \u001b[43m    \u001b[49m\u001b[43mrerank\u001b[49m\u001b[38;5;241;43m=\u001b[39;49m\u001b[43mrerank\u001b[49m\u001b[43m,\u001b[49m\n\u001b[1;32m    146\u001b[0m \u001b[43m    \u001b[49m\u001b[43msort_by\u001b[49m\u001b[38;5;241;43m=\u001b[39;49m\u001b[43msort_by\u001b[49m\u001b[43m,\u001b[49m\n\u001b[1;32m    147\u001b[0m \u001b[43m\u001b[49m\u001b[43m)\u001b[49m\n",
      "File \u001b[0;32m~/.pyenv/versions/3.10.16/lib/python3.10/site-packages/weaviate/collections/grpc/query.py:488\u001b[0m, in \u001b[0;36m_QueryGRPC.__create_request\u001b[0;34m(self, limit, offset, after, filters, metadata, return_properties, return_references, generative, rerank, autocut, group_by, near_vector, sort_by, hybrid_search, bm25, near_object, near_text, near_audio, near_depth, near_image, near_imu, near_thermal, near_video)\u001b[0m\n\u001b[1;32m    469\u001b[0m     return_references_parsed \u001b[38;5;241m=\u001b[39m \u001b[38;5;28;01mNone\u001b[39;00m\n\u001b[1;32m    471\u001b[0m return_properties_parsed \u001b[38;5;241m=\u001b[39m \u001b[38;5;28mself\u001b[39m\u001b[38;5;241m.\u001b[39m__parse_return_properties(return_properties)\n\u001b[1;32m    473\u001b[0m \u001b[38;5;28;01mreturn\u001b[39;00m search_get_pb2\u001b[38;5;241m.\u001b[39mSearchRequest(\n\u001b[1;32m    474\u001b[0m     uses_123_api\u001b[38;5;241m=\u001b[39m\u001b[38;5;28;01mTrue\u001b[39;00m,\n\u001b[1;32m    475\u001b[0m     uses_125_api\u001b[38;5;241m=\u001b[39m\u001b[38;5;28mself\u001b[39m\u001b[38;5;241m.\u001b[39m__uses_125_api,\n\u001b[1;32m    476\u001b[0m     uses_127_api\u001b[38;5;241m=\u001b[39m\u001b[38;5;28mself\u001b[39m\u001b[38;5;241m.\u001b[39m__uses_127_api,\n\u001b[1;32m    477\u001b[0m     collection\u001b[38;5;241m=\u001b[39m\u001b[38;5;28mself\u001b[39m\u001b[38;5;241m.\u001b[39m_name,\n\u001b[1;32m    478\u001b[0m     limit\u001b[38;5;241m=\u001b[39mlimit,\n\u001b[1;32m    479\u001b[0m     offset\u001b[38;5;241m=\u001b[39moffset,\n\u001b[1;32m    480\u001b[0m     after\u001b[38;5;241m=\u001b[39m\u001b[38;5;28mstr\u001b[39m(after) \u001b[38;5;28;01mif\u001b[39;00m after \u001b[38;5;129;01mis\u001b[39;00m \u001b[38;5;129;01mnot\u001b[39;00m \u001b[38;5;28;01mNone\u001b[39;00m \u001b[38;5;28;01melse\u001b[39;00m \u001b[38;5;124m\"\u001b[39m\u001b[38;5;124m\"\u001b[39m,\n\u001b[1;32m    481\u001b[0m     autocut\u001b[38;5;241m=\u001b[39mautocut,\n\u001b[1;32m    482\u001b[0m     properties\u001b[38;5;241m=\u001b[39m\u001b[38;5;28mself\u001b[39m\u001b[38;5;241m.\u001b[39m_translate_properties_from_python_to_grpc(\n\u001b[1;32m    483\u001b[0m         return_properties_parsed, return_references_parsed\n\u001b[1;32m    484\u001b[0m     ),\n\u001b[1;32m    485\u001b[0m     metadata\u001b[38;5;241m=\u001b[39m(\u001b[38;5;28mself\u001b[39m\u001b[38;5;241m.\u001b[39m_metadata_to_grpc(metadata) \u001b[38;5;28;01mif\u001b[39;00m metadata \u001b[38;5;129;01mis\u001b[39;00m \u001b[38;5;129;01mnot\u001b[39;00m \u001b[38;5;28;01mNone\u001b[39;00m \u001b[38;5;28;01melse\u001b[39;00m \u001b[38;5;28;01mNone\u001b[39;00m),\n\u001b[1;32m    486\u001b[0m     consistency_level\u001b[38;5;241m=\u001b[39m\u001b[38;5;28mself\u001b[39m\u001b[38;5;241m.\u001b[39m_consistency_level,\n\u001b[1;32m    487\u001b[0m     tenant\u001b[38;5;241m=\u001b[39m\u001b[38;5;28mself\u001b[39m\u001b[38;5;241m.\u001b[39m_tenant,\n\u001b[0;32m--> 488\u001b[0m     filters\u001b[38;5;241m=\u001b[39m\u001b[43m_FilterToGRPC\u001b[49m\u001b[38;5;241;43m.\u001b[39;49m\u001b[43mconvert\u001b[49m\u001b[43m(\u001b[49m\u001b[43mfilters\u001b[49m\u001b[43m)\u001b[49m,\n\u001b[1;32m    489\u001b[0m     generative\u001b[38;5;241m=\u001b[39m(\n\u001b[1;32m    490\u001b[0m         generative\u001b[38;5;241m.\u001b[39mto_grpc(\u001b[38;5;28mself\u001b[39m\u001b[38;5;241m.\u001b[39m_weaviate_version) \u001b[38;5;28;01mif\u001b[39;00m generative \u001b[38;5;129;01mis\u001b[39;00m \u001b[38;5;129;01mnot\u001b[39;00m \u001b[38;5;28;01mNone\u001b[39;00m \u001b[38;5;28;01melse\u001b[39;00m \u001b[38;5;28;01mNone\u001b[39;00m\n\u001b[1;32m    491\u001b[0m     ),\n\u001b[1;32m    492\u001b[0m     group_by\u001b[38;5;241m=\u001b[39mgroup_by\u001b[38;5;241m.\u001b[39mto_grpc() \u001b[38;5;28;01mif\u001b[39;00m group_by \u001b[38;5;129;01mis\u001b[39;00m \u001b[38;5;129;01mnot\u001b[39;00m \u001b[38;5;28;01mNone\u001b[39;00m \u001b[38;5;28;01melse\u001b[39;00m \u001b[38;5;28;01mNone\u001b[39;00m,\n\u001b[1;32m    493\u001b[0m     rerank\u001b[38;5;241m=\u001b[39m(\n\u001b[1;32m    494\u001b[0m         search_get_pb2\u001b[38;5;241m.\u001b[39mRerank(\u001b[38;5;28mproperty\u001b[39m\u001b[38;5;241m=\u001b[39mrerank\u001b[38;5;241m.\u001b[39mprop, query\u001b[38;5;241m=\u001b[39mrerank\u001b[38;5;241m.\u001b[39mquery)\n\u001b[1;32m    495\u001b[0m         \u001b[38;5;28;01mif\u001b[39;00m rerank \u001b[38;5;129;01mis\u001b[39;00m \u001b[38;5;129;01mnot\u001b[39;00m \u001b[38;5;28;01mNone\u001b[39;00m\n\u001b[1;32m    496\u001b[0m         \u001b[38;5;28;01melse\u001b[39;00m \u001b[38;5;28;01mNone\u001b[39;00m\n\u001b[1;32m    497\u001b[0m     ),\n\u001b[1;32m    498\u001b[0m     near_vector\u001b[38;5;241m=\u001b[39mnear_vector,\n\u001b[1;32m    499\u001b[0m     sort_by\u001b[38;5;241m=\u001b[39msort_by,\n\u001b[1;32m    500\u001b[0m     hybrid_search\u001b[38;5;241m=\u001b[39mhybrid_search,\n\u001b[1;32m    501\u001b[0m     bm25_search\u001b[38;5;241m=\u001b[39mbm25,\n\u001b[1;32m    502\u001b[0m     near_object\u001b[38;5;241m=\u001b[39mnear_object,\n\u001b[1;32m    503\u001b[0m     near_text\u001b[38;5;241m=\u001b[39mnear_text,\n\u001b[1;32m    504\u001b[0m     near_audio\u001b[38;5;241m=\u001b[39mnear_audio,\n\u001b[1;32m    505\u001b[0m     near_depth\u001b[38;5;241m=\u001b[39mnear_depth,\n\u001b[1;32m    506\u001b[0m     near_image\u001b[38;5;241m=\u001b[39mnear_image,\n\u001b[1;32m    507\u001b[0m     near_imu\u001b[38;5;241m=\u001b[39mnear_imu,\n\u001b[1;32m    508\u001b[0m     near_thermal\u001b[38;5;241m=\u001b[39mnear_thermal,\n\u001b[1;32m    509\u001b[0m     near_video\u001b[38;5;241m=\u001b[39mnear_video,\n\u001b[1;32m    510\u001b[0m )\n",
      "File \u001b[0;32m~/.pyenv/versions/3.10.16/lib/python3.10/site-packages/weaviate/collections/filters.py:37\u001b[0m, in \u001b[0;36m_FilterToGRPC.convert\u001b[0;34m(weav_filter)\u001b[0m\n\u001b[1;32m     35\u001b[0m     \u001b[38;5;28;01mreturn\u001b[39;00m \u001b[38;5;28;01mNone\u001b[39;00m\n\u001b[1;32m     36\u001b[0m \u001b[38;5;28;01melif\u001b[39;00m \u001b[38;5;28misinstance\u001b[39m(weav_filter, _FilterValue):\n\u001b[0;32m---> 37\u001b[0m     \u001b[38;5;28;01mreturn\u001b[39;00m \u001b[43m_FilterToGRPC\u001b[49m\u001b[38;5;241;43m.\u001b[39;49m\u001b[43m__value_filter\u001b[49m\u001b[43m(\u001b[49m\u001b[43mweav_filter\u001b[49m\u001b[43m)\u001b[49m\n\u001b[1;32m     38\u001b[0m \u001b[38;5;28;01melse\u001b[39;00m:\n\u001b[1;32m     39\u001b[0m     \u001b[38;5;28;01mreturn\u001b[39;00m _FilterToGRPC\u001b[38;5;241m.\u001b[39m__and_or_not_filter(weav_filter)\n",
      "File \u001b[0;32m~/.pyenv/versions/3.10.16/lib/python3.10/site-packages/weaviate/collections/filters.py:44\u001b[0m, in \u001b[0;36m_FilterToGRPC.__value_filter\u001b[0;34m(weav_filter)\u001b[0m\n\u001b[1;32m     41\u001b[0m \u001b[38;5;129m@staticmethod\u001b[39m\n\u001b[1;32m     42\u001b[0m \u001b[38;5;28;01mdef\u001b[39;00m \u001b[38;5;21m__value_filter\u001b[39m(weav_filter: _FilterValue) \u001b[38;5;241m-\u001b[39m\u001b[38;5;241m>\u001b[39m base_pb2\u001b[38;5;241m.\u001b[39mFilters:\n\u001b[1;32m     43\u001b[0m     \u001b[38;5;28;01mreturn\u001b[39;00m base_pb2\u001b[38;5;241m.\u001b[39mFilters(\n\u001b[0;32m---> 44\u001b[0m         operator\u001b[38;5;241m=\u001b[39m\u001b[43mweav_filter\u001b[49m\u001b[38;5;241;43m.\u001b[39;49m\u001b[43moperator\u001b[49m\u001b[38;5;241;43m.\u001b[39;49m\u001b[43m_to_grpc\u001b[49m\u001b[43m(\u001b[49m\u001b[43m)\u001b[49m,\n\u001b[1;32m     45\u001b[0m         value_text\u001b[38;5;241m=\u001b[39m_FilterToGRPC\u001b[38;5;241m.\u001b[39m__filter_to_text(weav_filter\u001b[38;5;241m.\u001b[39mvalue),\n\u001b[1;32m     46\u001b[0m         value_int\u001b[38;5;241m=\u001b[39mweav_filter\u001b[38;5;241m.\u001b[39mvalue \u001b[38;5;28;01mif\u001b[39;00m \u001b[38;5;28misinstance\u001b[39m(weav_filter\u001b[38;5;241m.\u001b[39mvalue, \u001b[38;5;28mint\u001b[39m) \u001b[38;5;28;01melse\u001b[39;00m \u001b[38;5;28;01mNone\u001b[39;00m,\n\u001b[1;32m     47\u001b[0m         value_boolean\u001b[38;5;241m=\u001b[39mweav_filter\u001b[38;5;241m.\u001b[39mvalue \u001b[38;5;28;01mif\u001b[39;00m \u001b[38;5;28misinstance\u001b[39m(weav_filter\u001b[38;5;241m.\u001b[39mvalue, \u001b[38;5;28mbool\u001b[39m) \u001b[38;5;28;01melse\u001b[39;00m \u001b[38;5;28;01mNone\u001b[39;00m,  \u001b[38;5;66;03m# type: ignore\u001b[39;00m\n\u001b[1;32m     48\u001b[0m         value_number\u001b[38;5;241m=\u001b[39m(weav_filter\u001b[38;5;241m.\u001b[39mvalue \u001b[38;5;28;01mif\u001b[39;00m \u001b[38;5;28misinstance\u001b[39m(weav_filter\u001b[38;5;241m.\u001b[39mvalue, \u001b[38;5;28mfloat\u001b[39m) \u001b[38;5;28;01melse\u001b[39;00m \u001b[38;5;28;01mNone\u001b[39;00m),\n\u001b[1;32m     49\u001b[0m         value_int_array\u001b[38;5;241m=\u001b[39m_FilterToGRPC\u001b[38;5;241m.\u001b[39m__filter_to_int_list(weav_filter\u001b[38;5;241m.\u001b[39mvalue),\n\u001b[1;32m     50\u001b[0m         value_number_array\u001b[38;5;241m=\u001b[39m_FilterToGRPC\u001b[38;5;241m.\u001b[39m__filter_to_float_list(weav_filter\u001b[38;5;241m.\u001b[39mvalue),\n\u001b[1;32m     51\u001b[0m         value_text_array\u001b[38;5;241m=\u001b[39m_FilterToGRPC\u001b[38;5;241m.\u001b[39m__filter_to_text_list(weav_filter\u001b[38;5;241m.\u001b[39mvalue),\n\u001b[1;32m     52\u001b[0m         value_boolean_array\u001b[38;5;241m=\u001b[39m_FilterToGRPC\u001b[38;5;241m.\u001b[39m__filter_to_bool_list(weav_filter\u001b[38;5;241m.\u001b[39mvalue),\n\u001b[1;32m     53\u001b[0m         value_geo\u001b[38;5;241m=\u001b[39m_FilterToGRPC\u001b[38;5;241m.\u001b[39m__filter_to_geo(weav_filter\u001b[38;5;241m.\u001b[39mvalue),\n\u001b[1;32m     54\u001b[0m         target\u001b[38;5;241m=\u001b[39m_FilterToGRPC\u001b[38;5;241m.\u001b[39m__to_target(weav_filter\u001b[38;5;241m.\u001b[39mtarget),\n\u001b[1;32m     55\u001b[0m     )\n",
      "File \u001b[0;32m~/.pyenv/versions/3.10.16/lib/python3.10/site-packages/weaviate/collections/classes/filters.py:60\u001b[0m, in \u001b[0;36m_Operator._to_grpc\u001b[0;34m(self)\u001b[0m\n\u001b[1;32m     58\u001b[0m     \u001b[38;5;28;01mreturn\u001b[39;00m base_pb2\u001b[38;5;241m.\u001b[39mFilters\u001b[38;5;241m.\u001b[39mOPERATOR_NOT\n\u001b[1;32m     59\u001b[0m \u001b[38;5;28;01melse\u001b[39;00m:\n\u001b[0;32m---> 60\u001b[0m     \u001b[38;5;28;01massert\u001b[39;00m \u001b[38;5;28mself\u001b[39m \u001b[38;5;241m==\u001b[39m _Operator\u001b[38;5;241m.\u001b[39mOR\n\u001b[1;32m     61\u001b[0m     \u001b[38;5;28;01mreturn\u001b[39;00m base_pb2\u001b[38;5;241m.\u001b[39mFilters\u001b[38;5;241m.\u001b[39mOPERATOR_OR\n",
      "\u001b[0;31mAssertionError\u001b[0m: "
     ]
    }
   ],
   "source": [
    "from weaviate.collections.classes.filters import Filter\n",
    "\n",
    "# Query with new operators\n",
    "collection = client.collections.get(\"Articles\")\n",
    "\n",
    "# Not: Find articles NOT in sports category with 1000+ views\n",
    "print(\"\\n=== Not operator example ===\")\n",
    "results = collection.query.fetch_objects(\n",
    "    filters=Filter.all_of(\n",
    "        [\n",
    "            Filter.not_(Filter.by_property(\"category\").equal(\"sports\")),\n",
    "            Filter.by_property(\"views\").greater_than(1000),\n",
    "        ]\n",
    "    ),\n",
    "    limit=5,\n",
    ")\n",
    "for obj in results.objects:\n",
    "    print(f\"- {obj.properties['title']}: {obj.properties['views']} views\")\n",
    "\n",
    "# ContainsNone: Find articles WITHOUT sports or news tags\n",
    "print(\"=== ContainsNone operator example ===\")\n",
    "results = collection.query.fetch_objects(\n",
    "    filters=Filter.by_property(\"tags\").contains_none([\"sports\", \"news\"]), limit=5\n",
    ")\n",
    "for obj in results.objects:\n",
    "    print(f\"- {obj.properties['title']}: {obj.properties['tags']}\")\n"
   ]
  },
  {
   "cell_type": "code",
   "execution_count": null,
   "id": "0897f973",
   "metadata": {},
   "outputs": [],
   "source": [
    "client.close()"
   ]
  },
  {
   "cell_type": "markdown",
   "id": "2f86dac3",
   "metadata": {},
   "source": [
    "<a id=\"oidc-groups\"></a>\n",
    "## 6. OIDC Group Management\n",
    "\n",
    "Manage permissions at scale using groups from your identity provider (Keycloak, Okta, Auth0, etc.).\n",
    "\n",
    "### Key features\n",
    "- ✅ **Automatic permission inheritance** - Users get permissions from their groups\n",
    "- ✅ **Centralized management** - Define groups in your IdP\n",
    "- ✅ **Bulk operations** - Assign roles to entire groups\n",
    "- ✅ **Sync with organization structure** - Permissions match your org chart\n",
    "\n",
    "### Docs\n",
    "- [How-to: Manage OIDC groups](https://v1-33-main--docs-weaviate-io.netlify.app/weaviate/configuration/rbac/manage-groups)"
   ]
  },
  {
   "cell_type": "code",
   "execution_count": null,
   "id": "462675a9",
   "metadata": {},
   "outputs": [
    {
     "name": "stdout",
     "output_type": "stream",
     "text": [
      "Connected to Weaviate: True\n",
      "Weaviate version: 1.33.0-rc.1\n"
     ]
    }
   ],
   "source": [
    "import weaviate\n",
    "from weaviate.classes.init import Auth\n",
    "\n",
    "# Assign the client to a variable\n",
    "oidc_client = weaviate.connect_to_local(\n",
    "    host=\"localhost\",\n",
    "    port=8580,\n",
    "    grpc_port=50551,\n",
    "    auth_credentials=Auth.api_key(\"root-user-key\"),\n",
    ")\n",
    "\n",
    "# Use the correct variable name here\n",
    "print(f\"Connected to Weaviate: {oidc_client.is_ready()}\")\n",
    "print(f\"Weaviate version: {oidc_client.get_meta()['version']}\")"
   ]
  },
  {
   "cell_type": "code",
   "execution_count": null,
   "id": "dfe601b5",
   "metadata": {},
   "outputs": [
    {
     "name": "stdout",
     "output_type": "stream",
     "text": [
      "✅ Admin group configured with full permissions\n",
      "✅ Engineering team configured\n",
      "\n",
      "📋 Roles for group '/engineering':\n",
      "{'data_manager': Role(name='data_manager',\n",
      "                      alias_permissions=[],\n",
      "                      cluster_permissions=[],\n",
      "                      collections_permissions=[],\n",
      "                      data_permissions=[],\n",
      "                      roles_permissions=[RolesPermissionOutput(actions={<RolesAction.READ: 'read_roles'>, <RolesAction.UPDATE: 'update_roles'>, <RolesAction.CREATE: 'create_roles'>, <RolesAction.DELETE: 'delete_roles'>}, role='testRole*', scope='match')],\n",
      "                      users_permissions=[],\n",
      "                      backups_permissions=[],\n",
      "                      nodes_permissions=[],\n",
      "                      tenants_permissions=[],\n",
      "                      replicate_permissions=[],\n",
      "                      groups_permissions=[]),\n",
      " 'developer': Role(name='developer',\n",
      "                   alias_permissions=[],\n",
      "                   cluster_permissions=[],\n",
      "                   collections_permissions=[],\n",
      "                   data_permissions=[],\n",
      "                   roles_permissions=[RolesPermissionOutput(actions={<RolesAction.READ: 'read_roles'>, <RolesAction.UPDATE: 'update_roles'>, <RolesAction.CREATE: 'create_roles'>, <RolesAction.DELETE: 'delete_roles'>}, role='testRole*', scope='match')],\n",
      "                   users_permissions=[],\n",
      "                   backups_permissions=[],\n",
      "                   nodes_permissions=[],\n",
      "                   tenants_permissions=[],\n",
      "                   replicate_permissions=[],\n",
      "                   groups_permissions=[])}\n",
      "✅ Revoked roles ['data_manager'] from /engineering\n",
      "\n",
      "📋 Roles for group '/engineering':\n",
      "{'developer': Role(name='developer',\n",
      "                   alias_permissions=[],\n",
      "                   cluster_permissions=[],\n",
      "                   collections_permissions=[],\n",
      "                   data_permissions=[],\n",
      "                   roles_permissions=[RolesPermissionOutput(actions={<RolesAction.READ: 'read_roles'>, <RolesAction.UPDATE: 'update_roles'>, <RolesAction.CREATE: 'create_roles'>, <RolesAction.DELETE: 'delete_roles'>}, role='testRole*', scope='match')],\n",
      "                   users_permissions=[],\n",
      "                   backups_permissions=[],\n",
      "                   nodes_permissions=[],\n",
      "                   tenants_permissions=[],\n",
      "                   replicate_permissions=[],\n",
      "                   groups_permissions=[])}\n"
     ]
    }
   ],
   "source": [
    "from weaviate.classes.rbac import Permissions, RoleScope\n",
    "\n",
    "\n",
    "# Define roles for different teams\n",
    "def setup_oidc_group_permissions():\n",
    "    \"\"\"Configure OIDC group-based permissions\"\"\"\n",
    "    # Cleanup\n",
    "    oidc_client.roles.delete(role_name=\"administrator\")\n",
    "    oidc_client.roles.delete(role_name=\"developer\")\n",
    "    oidc_client.roles.delete(role_name=\"data_manager\")\n",
    "\n",
    "    permissions = [\n",
    "        Permissions.roles(\n",
    "            role=\"testRole*\",  # Applies to all roles starting with \"testRole\"\n",
    "            scope=RoleScope.MATCH,  # Only allow role management with the current user's permission level\n",
    "            # scope=RoleScope.ALL   # Allow role management with all permissions\n",
    "            create=True,  # Allow creating roles\n",
    "            read=True,  # Allow reading roles\n",
    "            update=True,  # Allow updating roles\n",
    "            delete=True,  # Allow deleting roles\n",
    "        )\n",
    "    ]\n",
    "\n",
    "    oidc_client.roles.create(role_name=\"administrator\", permissions=permissions)\n",
    "    oidc_client.roles.create(role_name=\"developer\", permissions=permissions)\n",
    "    oidc_client.roles.create(role_name=\"data_manager\", permissions=permissions)\n",
    "\n",
    "    # 1. Assign roles to admin group\n",
    "    oidc_client.groups.oidc.assign_roles(group_id=\"/admin-group\", role_names=[\"admin\"])\n",
    "    print(\"✅ Admin group configured with full permissions\")\n",
    "\n",
    "    # 2. Configure engineering team\n",
    "    oidc_client.groups.oidc.assign_roles(\n",
    "        group_id=\"/engineering\", role_names=[\"developer\", \"data_manager\"]\n",
    "    )\n",
    "    print(\"✅ Engineering team configured\")\n",
    "\n",
    "\n",
    "# List all roles for a group\n",
    "def list_group_permissions(group_id):\n",
    "    \"\"\"Display all roles assigned to a group\"\"\"\n",
    "    group_roles = oidc_client.groups.oidc.get_assigned_roles(\n",
    "        group_id=group_id, include_permissions=True  # Include detailed permissions\n",
    "    )\n",
    "\n",
    "    print(f\"\\n📋 Roles for group '{group_id}':\")\n",
    "    pprint(group_roles)\n",
    "\n",
    "\n",
    "# Revoke specific roles\n",
    "def update_group_permissions(group_id, roles_to_revoke):\n",
    "    \"\"\"Remove specific roles from a group\"\"\"\n",
    "    oidc_client.groups.oidc.revoke_roles(group_id=group_id, role_names=roles_to_revoke)\n",
    "    print(f\"✅ Revoked roles {roles_to_revoke} from {group_id}\")\n",
    "\n",
    "\n",
    "setup_oidc_group_permissions()\n",
    "list_group_permissions(\"/engineering\")\n",
    "update_group_permissions(\"/engineering\", [\"data_manager\"])\n",
    "list_group_permissions(\"/engineering\")"
   ]
  },
  {
   "cell_type": "code",
   "execution_count": null,
   "id": "8d5f09f7",
   "metadata": {},
   "outputs": [],
   "source": [
    "oidc_client.close()"
   ]
  }
 ],
 "metadata": {
  "kernelspec": {
   "display_name": "3.10.16",
   "language": "python",
   "name": "python3"
  },
  "language_info": {
   "codemirror_mode": {
    "name": "ipython",
    "version": 3
   },
   "file_extension": ".py",
   "mimetype": "text/x-python",
   "name": "python",
   "nbconvert_exporter": "python",
   "pygments_lexer": "ipython3",
   "version": "3.10.16"
  }
 },
 "nbformat": 4,
 "nbformat_minor": 5
}
