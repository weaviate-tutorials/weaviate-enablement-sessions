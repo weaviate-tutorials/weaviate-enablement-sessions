{
 "cells": [
  {
   "cell_type": "markdown",
   "id": "3c8d2b79",
   "metadata": {},
   "source": [
    "# Weaviate 1.33 enablement session"
   ]
  },
  {
   "cell_type": "markdown",
   "id": "da8a1154",
   "metadata": {},
   "source": [
    "This notebook demonstrates all the major features introduced in Weaviate v1.33, including compression by default, advanced quantization, server-side batching, and more.\n",
    "\n",
    "## Table of Contents\n",
    "- [0. Setup and prerequisites](#setup)\n",
    "- [1. Server-side batch imports (Preview)](#server-batch)\n",
    "- [2. Collection aliases (GA)](#aliases)\n",
    "- [3. Compression by default & 8-bit RQ (GA)](#compression-default)\n",
    "- [4. 1-bit Rotational Quantization (Preview)](#1bit-rq)\n",
    "- [5. New filter operators: `ContainsNone` & `Not`](#filters)\n",
    "- [6. OIDC Group management](#oidc-groups)\n",
    "\n",
    "<div class=\"alert alert-info\">\n",
    "<b>Warning:</b>\n",
    "<ul>\n",
    "  <li>The documentation and blog post links are pointing to draft versions as the materials haven't been officially published yet.</li>\n",
    "  <li>The Docker Compose files use Weaviate RC (Release Candidate versions) and not official builds.</li>\n",
    "  <li>The Weaviate Python client library is also under development for v1.33.</li>\n",
    "</ul>\n",
    "</div>"
   ]
  },
  {
   "cell_type": "markdown",
   "id": "881db85c",
   "metadata": {},
   "source": [
    "<a id=\"setup\"></a>\n",
    "## Setup and prerequisites"
   ]
  },
  {
   "cell_type": "markdown",
   "id": "dcf126ba",
   "metadata": {},
   "source": [
    "Make sure you have the following services up and running:\n",
    "- `docker-compose-prerelease-1-33.yml` up and running (for steps 1-5)\n",
    "- `docker-compose-prerelease-1-33-keycloak.yml` up and running (for step 6)\n",
    "\n",
    "Install the 1.33 dev Weaviate Python client:\n",
    "\n",
    "```bash\n",
    "!pip install git+https://github.com/weaviate/weaviate-python-client.git@feat/server-side-batching # For step 1\n",
    "!pip install weaviate-client==4.17.0-rc0 # For steps 2-6\n",
    "```"
   ]
  },
  {
   "cell_type": "markdown",
   "id": "12515db0",
   "metadata": {},
   "source": [
    "Connect to a local Weaviate instance:"
   ]
  },
  {
   "cell_type": "code",
   "execution_count": 2,
   "id": "ff428f51",
   "metadata": {},
   "outputs": [
    {
     "name": "stdout",
     "output_type": "stream",
     "text": [
      "Connected to Weaviate: True\n",
      "Weaviate version: 1.33.0-rc.1\n"
     ]
    }
   ],
   "source": [
    "import os\n",
    "import weaviate\n",
    "from dotenv import load_dotenv\n",
    "from pprint import pprint\n",
    "from weaviate.classes.config import Configure, DataType, Property, VectorDistances\n",
    "from weaviate.collections.classes.filters import Filter\n",
    "\n",
    "\n",
    "# Load environment variables from .env file\n",
    "load_dotenv()\n",
    "\n",
    "# Connect to Weaviate instance\n",
    "client = weaviate.connect_to_local(\n",
    "    headers={\n",
    "        \"X-Openai-Api-Key\": os.environ[\n",
    "            \"OPENAI_API_KEY\"\n",
    "        ]  # Replace with your inference API key\n",
    "    }\n",
    ")\n",
    "\n",
    "# Check connection\n",
    "print(f\"Connected to Weaviate: {client.is_ready()}\")\n",
    "print(f\"Weaviate version: {client.get_meta()['version']}\")"
   ]
  },
  {
   "cell_type": "markdown",
   "id": "575ce1b3",
   "metadata": {},
   "source": [
    "<a id=\"server-batch\"></a>\n",
    "## 1. Server-side batch imports\n",
    "\n",
    "Server-side batching (automatic batching) lets the server optimize data ingestion for maximum performance.\n",
    "\n",
    "### ⚠️ Important considerations\n",
    "- **Preview feature** - Not recommended for production\n",
    "\n",
    "### Key advantages\n",
    "- ✅ **No manual tuning** - Server optimizes batch size automatically\n",
    "- ✅ **Dynamic backpressure** - Prevents server overload\n",
    "- ✅ **Asynchronous error handling** - Errors don't interrupt flow\n",
    "\n",
    "### Docs\n",
    "- [Concepts: Data import](https://v1-33-main--docs-weaviate-io.netlify.app/weaviate/concepts/data-import)\n",
    "- [How-to: Batch import](https://v1-33-main--docs-weaviate-io.netlify.app/weaviate/manage-objects/import#server-side-batching)\n",
    "- [Tutorial: Batch data import](https://v1-33-main--docs-weaviate-io.netlify.app/weaviate/tutorials/import)"
   ]
  },
  {
   "cell_type": "code",
   "execution_count": 2,
   "id": "b093a44d",
   "metadata": {},
   "outputs": [],
   "source": [
    "def create_collection(name):\n",
    "    client.collections.delete(name)  # Clean up previous test\n",
    "    # Create test collection\n",
    "    test_collection = client.collections.create(\n",
    "        name=name,\n",
    "        properties=[\n",
    "            Property(name=\"title\", data_type=DataType.TEXT),\n",
    "            Property(name=\"content\", data_type=DataType.TEXT),\n",
    "        ]\n",
    "    )\n",
    "\n",
    "# Example usage\n",
    "large_dataset = [\n",
    "    {\"title\": f\"Article {i}\", \"content\": f\"Content for article {i}...\"} \n",
    "    for i in range(1000)\n",
    "]"
   ]
  },
  {
   "cell_type": "code",
   "execution_count": 3,
   "id": "2dff538d",
   "metadata": {},
   "outputs": [
    {
     "name": "stdout",
     "output_type": "stream",
     "text": [
      "Imported 1000 objects with manual batching\n"
     ]
    }
   ],
   "source": [
    "# Traditional client-side batching (old way)\n",
    "def traditional_batching(collection_name, data_objects):\n",
    "    \"\"\"Manual batching - requires tuning batch_size and concurrent_requests\"\"\"\n",
    "    collection = client.collections.get(collection_name)\n",
    "    \n",
    "    # Manual configuration required\n",
    "    with collection.batch.fixed_size(\n",
    "        batch_size=100,  # Manual tuning needed\n",
    "        concurrent_requests=2  # Manual tuning needed\n",
    "    ) as batch:\n",
    "        for obj in data_objects:\n",
    "            batch.add_object(properties=obj)\n",
    "    \n",
    "    print(f\"Imported {len(collection)} objects with manual batching\")\n",
    "\n",
    "create_collection(\"BatchImportTest\")\n",
    "traditional_batching(\"BatchImportTest\", large_dataset)\n"
   ]
  },
  {
   "cell_type": "code",
   "execution_count": null,
   "id": "d300ca31",
   "metadata": {},
   "outputs": [
    {
     "name": "stderr",
     "output_type": "stream",
     "text": [
      "Scaling up sending: 1000 -> 4000\n",
      "Waiting for background thread to finish...\n"
     ]
    },
    {
     "name": "stdout",
     "output_type": "stream",
     "text": [
      "✅ Imported 10000 objects with automatic batching\n"
     ]
    }
   ],
   "source": [
    "# NEW: Server-side automatic batching (v1.33)\n",
    "def automatic_batching(collection_name, data_objects):\n",
    "    \"\"\"Server-side batching - automatic optimization!\"\"\"\n",
    "    collection = client.collections.get(collection_name)\n",
    "    \n",
    "    # Server automatically optimizes everything!\n",
    "    with collection.batch.automatic() as batch:\n",
    "        for obj in data_objects:\n",
    "            batch.add_object(properties=obj)\n",
    "            \n",
    "    print(f\"✅ Imported {len(data_objects)} objects with automatic batching\")\n",
    "\n",
    "automatic_batching(\"BatchImportTest\", large_dataset*10)\n",
    "\n",
    "# TODO: Check how concurrent_requests are handled"
   ]
  },
  {
   "cell_type": "markdown",
   "id": "24a550c6",
   "metadata": {},
   "source": [
    "<a id=\"aliases\"></a>\n",
    "## 2. Collection aliases (GA)\n",
    "\n",
    "Collection aliases enable zero-downtime migrations and flexible production deployments.\n",
    "\n",
    "### ⚠️ Important considerations\n",
    "- Don't forget to install the client version: `!pip install weaviate-client==4.17.0-rc0`\n",
    "\n",
    "### Key benefits\n",
    "- ✅ **Zero-downtime migrations** - Switch collections instantly\n",
    "- ✅ **Collection definition changes** - Otherwise immutable parameters can be changed this way\n",
    "- ✅ **Generally available** - Production-ready!\n",
    "\n",
    "### Docs\n",
    "- [How-to: Collection aliases](https://v1-33-main--docs-weaviate-io.netlify.app/weaviate/manage-collections/collection-aliases)\n",
    "- [Reference: Collection definition](https://v1-33-main--docs-weaviate-io.netlify.app/weaviate/config-refs/collections#collection-aliases)\n",
    "- [Tutorial: Zero-downtime collection migration with aliases](https://v1-33-main--docs-weaviate-io.netlify.app/weaviate/tutorials/collection-aliases)"
   ]
  },
  {
   "cell_type": "code",
   "execution_count": 3,
   "id": "053588dd",
   "metadata": {},
   "outputs": [
    {
     "name": "stdout",
     "output_type": "stream",
     "text": [
      "✅ Production collection 'Products_v1' created and populated\n"
     ]
    },
    {
     "data": {
      "text/plain": [
       "<weaviate.collections.collection.sync.Collection at 0x1066cffd0>"
      ]
     },
     "execution_count": 3,
     "metadata": {},
     "output_type": "execute_result"
    }
   ],
   "source": [
    "# Scenario: Migrating a production collection with zero downtime\n",
    "\n",
    "# Cleanup\n",
    "client.collections.delete(\"Products_v1\")  # Clean up previous test\n",
    "client.collections.delete(\"Products_v2\")  # Clean up previous test\n",
    "client.alias.delete(alias_name=\"ProductsAlias\")  # Clean up previous alias\n",
    "\n",
    "# Step 1: Create initial production collection\n",
    "def setup_production_collection():\n",
    "    \"\"\"Create initial production collection\"\"\"\n",
    "    v1_collection = client.collections.create(\n",
    "        name=\"Products_v1\",\n",
    "        properties=[\n",
    "            Property(name=\"name\", data_type=DataType.TEXT),\n",
    "            Property(name=\"description\", data_type=DataType.TEXT),\n",
    "            Property(name=\"price\", data_type=DataType.NUMBER),\n",
    "            Property(name=\"category\", data_type=DataType.TEXT),\n",
    "        ],\n",
    "        vector_config=Configure.Vectors.text2vec_openai()\n",
    "    )\n",
    "    \n",
    "    # Import production data\n",
    "    products = [\n",
    "        {\"name\": \"Laptop Pro\", \"description\": \"High-performance laptop\", \"price\": 1299.99, \"category\": \"electronics\"},\n",
    "        {\"name\": \"Wireless Mouse\", \"description\": \"Ergonomic wireless mouse\", \"price\": 29.99, \"category\": \"accessories\"},\n",
    "        {\"name\": \"USB-C Hub\", \"description\": \"7-in-1 USB-C hub\", \"price\": 49.99, \"category\": \"accessories\"},\n",
    "    ]\n",
    "    \n",
    "    with v1_collection.batch.fixed_size() as batch:\n",
    "        for product in products:\n",
    "            batch.add_object(properties=product)\n",
    "    \n",
    "    print(\"✅ Production collection 'Products_v1' created and populated\")\n",
    "    return v1_collection\n",
    "\n",
    "setup_production_collection()"
   ]
  },
  {
   "cell_type": "code",
   "execution_count": 4,
   "id": "fee2ca93",
   "metadata": {},
   "outputs": [
    {
     "name": "stdout",
     "output_type": "stream",
     "text": [
      "✅ Alias 'ProductsAlias' -> 'Products_v1' created\n"
     ]
    }
   ],
   "source": [
    "# Step 2: Create alias pointing to production\n",
    "def create_production_alias():\n",
    "    \"\"\"Create alias for production use\"\"\"\n",
    "    client.alias.create(\n",
    "        alias_name=\"ProductsAlias\",  # This is what applications use\n",
    "        target_collection=\"Products_v1\"\n",
    "    )\n",
    "    print(\"✅ Alias 'ProductsAlias' -> 'Products_v1' created\")\n",
    "\n",
    "create_production_alias()"
   ]
  },
  {
   "cell_type": "code",
   "execution_count": 8,
   "id": "98d81db0",
   "metadata": {},
   "outputs": [
    {
     "name": "stdout",
     "output_type": "stream",
     "text": [
      "\n",
      "🔍 Query results via alias 'ProductsAlias':\n",
      "  - Laptop Pro 2: $1299.99\n",
      "  - Wireless Mouse 2: $29.99\n",
      "  - USB-C Hub 2: $49.99\n"
     ]
    }
   ],
   "source": [
    "# Step 3: Applications use the alias (not the versioned name)\n",
    "def application_query():\n",
    "    \"\"\"Simulate application querying via alias\"\"\"\n",
    "    # Application always uses the alias, not version-specific names\n",
    "    products = client.collections.use(\"ProductsAlias\")  # Using alias!\n",
    "    \n",
    "    results = products.query.near_text(\n",
    "        query=\"laptop accessories\",\n",
    "        limit=3\n",
    "    )\n",
    "    \n",
    "    print(\"\\n🔍 Query results via alias 'ProductsAlias':\")\n",
    "    for item in results.objects:\n",
    "        print(f\"  - {item.properties['name']}: ${item.properties['price']}\")\n",
    "\n",
    "application_query()"
   ]
  },
  {
   "cell_type": "markdown",
   "id": "57b8da10",
   "metadata": {},
   "source": [
    "\n",
    "![Collection alias usage](./img/collection_alias_tutorial.png)"
   ]
  },
  {
   "cell_type": "code",
   "execution_count": 6,
   "id": "d58aa848",
   "metadata": {},
   "outputs": [
    {
     "name": "stdout",
     "output_type": "stream",
     "text": [
      "\n",
      "✅ Version 2 collection 'Products_v2' ready.\n"
     ]
    }
   ],
   "source": [
    "client.collections.delete(\"Products_v2\")  # Clean up previous test\n",
    "# Step 4: Prepare new version with improvements\n",
    "def prepare_v2_collection():\n",
    "    \"\"\"Create improved v2 collection\"\"\"\n",
    "    v2_collection = client.collections.create(\n",
    "        name=\"Products_v2\",\n",
    "        properties=[\n",
    "            Property(name=\"name\", data_type=DataType.TEXT),\n",
    "            Property(name=\"description\", data_type=DataType.TEXT),\n",
    "            Property(name=\"price\", data_type=DataType.NUMBER),\n",
    "            Property(name=\"category\", data_type=DataType.TEXT),\n",
    "            Property(name=\"brand\", data_type=DataType.TEXT),  # NEW field\n",
    "            Property(name=\"in_stock\", data_type=DataType.BOOL),  # NEW field\n",
    "        ],\n",
    "        vector_config=Configure.Vectors.text2vec_openai(\n",
    "            vector_index_config=Configure.VectorIndex.hnsw(\n",
    "                distance_metric=VectorDistances.COSINE,\n",
    "                ef=256,  # Improved search quality\n",
    "                quantizer=Configure.VectorIndex.Quantizer.rq(),  # Using new default RQ\n",
    "            )\n",
    "        ),\n",
    "    )\n",
    "\n",
    "    # Migrate and enhance data\n",
    "    enhanced_products = [\n",
    "        {\n",
    "            \"name\": \"Laptop Pro 2\",\n",
    "            \"description\": \"High-performance laptop\",\n",
    "            \"price\": 1299.99,\n",
    "            \"category\": \"electronics\",\n",
    "            \"brand\": \"TechCorp\",\n",
    "            \"in_stock\": True,\n",
    "        },\n",
    "        {\n",
    "            \"name\": \"Wireless Mouse 2\",\n",
    "            \"description\": \"Ergonomic wireless mouse\",\n",
    "            \"price\": 29.99,\n",
    "            \"category\": \"accessories\",\n",
    "            \"brand\": \"Logitech\",\n",
    "            \"in_stock\": True,\n",
    "        },\n",
    "        {\n",
    "            \"name\": \"USB-C Hub 2\",\n",
    "            \"description\": \"7-in-1 USB-C hub\",\n",
    "            \"price\": 49.99,\n",
    "            \"category\": \"accessories\",\n",
    "            \"brand\": \"Anker\",\n",
    "            \"in_stock\": False,\n",
    "        },\n",
    "    ]\n",
    "\n",
    "    with v2_collection.batch.fixed_size() as batch:\n",
    "        for product in enhanced_products:\n",
    "            batch.add_object(properties=product)\n",
    "\n",
    "    print(\"\\n✅ Version 2 collection 'Products_v2' ready.\")\n",
    "\n",
    "\n",
    "prepare_v2_collection()"
   ]
  },
  {
   "cell_type": "code",
   "execution_count": 7,
   "id": "2ce45d7b",
   "metadata": {},
   "outputs": [
    {
     "name": "stdout",
     "output_type": "stream",
     "text": [
      "\n",
      "🔄 Performing zero-downtime migration...\n",
      "✅ Migration complete! 'ProductsAlias' now points to 'Products_v2'\n"
     ]
    }
   ],
   "source": [
    "# Step 5: Zero-downtime migration\n",
    "def perform_zero_downtime_migration():\n",
    "    \"\"\"Switch alias to new version with zero downtime\"\"\"\n",
    "    print(\"\\n🔄 Performing zero-downtime migration...\")\n",
    "    \n",
    "    # Update alias to point to v2\n",
    "    client.alias.update(\n",
    "        alias_name=\"ProductsAlias\",\n",
    "        new_target_collection=\"Products_v2\"\n",
    "    )\n",
    "\n",
    "    print(\"✅ Migration complete! 'ProductsAlias' now points to 'Products_v2'\")\n",
    "\n",
    "perform_zero_downtime_migration()"
   ]
  },
  {
   "cell_type": "code",
   "execution_count": 9,
   "id": "07d20065",
   "metadata": {},
   "outputs": [
    {
     "name": "stdout",
     "output_type": "stream",
     "text": [
      "\n",
      "📋 Configured Aliases:\n",
      "Alias: TmpAlias2\n",
      "Alias: TmpAlias3\n",
      "Alias: ProductsAlias\n",
      "Alias: TmpAlias\n"
     ]
    }
   ],
   "source": [
    "# Step 6: Rollback if needed\n",
    "def rollback_if_needed():\n",
    "    \"\"\"Emergency rollback to previous version\"\"\"\n",
    "    print(\"\\n⚠️ Issue detected - performing rollback...\")\n",
    "\n",
    "    client.alias.update(alias_name=\"ProductsAlias\", new_target_collection=\"Products_v1\")\n",
    "\n",
    "    print(\"✅ Rolled back to 'Products_v1'\")\n",
    "    print(\"🔧 Fix issues in v2 and try again\")\n",
    "\n",
    "\n",
    "# List all aliases\n",
    "def list_all_aliases():\n",
    "    \"\"\"Display all configured aliases\"\"\"\n",
    "    aliases = client.alias.list_all()\n",
    "    print(\"\\n📋 Configured Aliases:\")\n",
    "    for alias in aliases:\n",
    "        print(f\"Alias: {alias}\")\n",
    "\n",
    "\n",
    "client.alias.create(alias_name=\"TmpAlias3\", target_collection=\"Products_v2\")\n",
    "list_all_aliases()"
   ]
  },
  {
   "cell_type": "markdown",
   "id": "5e93e846",
   "metadata": {},
   "source": [
    "<a id=\"compression-default\"></a>\n",
    "## 3. Compression by default & 8-bit RQ (GA)\n",
    "\n",
    "Starting with v1.33, **8-bit Rotational Quantization (RQ) is enabled by default** for all new collections. This provides up to 4x memory compression while maintaining 98-99% recall.\n",
    "\n",
    "### Key benefits\n",
    "- ✅ **Automatic optimization** - No configuration needed by users\n",
    "- ✅ **Up-to 4x memory compression** - Significant resource savings\n",
    "- ✅ **98-99% recall maintained** - Minimal accuracy loss with internal dataset testing\n",
    "- ✅ **No training phase** - Works immediately at index creation\n",
    "- ✅ **Generally Available (GA)** - Production-ready\n",
    "\n",
    "### Docs\n",
    "- [How-to: Rotational Quantization (RQ)](https://v1-33-main--docs-weaviate-io.netlify.app/weaviate/configuration/compression/rq-compression)\n",
    "- [Concepts: Rotational Quantization (RQ)](https://v1-33-main--docs-weaviate-io.netlify.app/weaviate/concepts/vector-quantization#rotational-quantization)\n",
    "- [Environment variable: DEFAULT_QUANTIZATION](https://v1-33-main--docs-weaviate-io.netlify.app/deploy/configuration/env-vars#DEFAULT_QUANTIZATION)"
   ]
  },
  {
   "cell_type": "code",
   "execution_count": 11,
   "id": "e33482de",
   "metadata": {},
   "outputs": [
    {
     "name": "stdout",
     "output_type": "stream",
     "text": [
      "✅ Collection created with default RQ compression enabled!\n",
      "(\"Quantization config: {'default': \"\n",
      " '_NamedVectorConfig(vectorizer=_NamedVectorizerConfig(vectorizer=<Vectorizers.TEXT2VEC_OPENAI: '\n",
      " \"'text2vec-openai'>, model={'baseURL': 'https://api.openai.com', 'isAzure': \"\n",
      " \"False, 'model': 'text-embedding-3-small', 'vectorizeClassName': True}, \"\n",
      " 'source_properties=None), '\n",
      " 'vector_index_config=_VectorIndexConfigHNSW(multi_vector=None, '\n",
      " 'quantizer=_RQConfig(bits=8, rescore_limit=20), cleanup_interval_seconds=300, '\n",
      " \"distance_metric=<VectorDistances.COSINE: 'cosine'>, dynamic_ef_min=100, \"\n",
      " 'dynamic_ef_max=500, dynamic_ef_factor=8, ef=-1, ef_construction=128, '\n",
      " \"filter_strategy=<VectorFilterStrategy.SWEEPING: 'sweeping'>, \"\n",
      " 'flat_search_cutoff=40000, max_connections=32, skip=False, '\n",
      " 'vector_cache_max_objects=1000000000000))}')\n"
     ]
    }
   ],
   "source": [
    "client.collections.delete(\"Articles_Compressed_Default\")  # Clean up previous test\n",
    "# Create a collection - RQ compression is now enabled by default!\n",
    "default_compressed_collection = client.collections.create(\n",
    "    name=\"Articles_Compressed_Default\",\n",
    "    properties=[\n",
    "        Property(name=\"title\", data_type=DataType.TEXT),\n",
    "        Property(name=\"content\", data_type=DataType.TEXT),\n",
    "        Property(name=\"author\", data_type=DataType.TEXT),\n",
    "    ],\n",
    "    vector_config=Configure.Vectors.text2vec_openai()\n",
    ")\n",
    "\n",
    "print(\"✅ Collection created with default RQ compression enabled!\")\n",
    "\n",
    "# Verify compression settings\n",
    "collection_config = client.collections.get(\"Articles_Compressed_Default\").config.get()\n",
    "pprint(f\"Quantization config: {collection_config.vector_config}\")"
   ]
  },
  {
   "cell_type": "markdown",
   "id": "5d6dbcf7",
   "metadata": {},
   "source": [
    "### Change default compression technique"
   ]
  },
  {
   "cell_type": "code",
   "execution_count": 12,
   "id": "9f38cdd4",
   "metadata": {},
   "outputs": [
    {
     "name": "stdout",
     "output_type": "stream",
     "text": [
      "✅ Collection created without compression (override default)\n",
      "(\"Quantization config: {'default': \"\n",
      " '_NamedVectorConfig(vectorizer=_NamedVectorizerConfig(vectorizer=<Vectorizers.TEXT2VEC_OPENAI: '\n",
      " \"'text2vec-openai'>, model={'baseURL': 'https://api.openai.com', 'isAzure': \"\n",
      " \"False, 'model': 'text-embedding-3-small', 'vectorizeClassName': True}, \"\n",
      " 'source_properties=None), '\n",
      " 'vector_index_config=_VectorIndexConfigHNSW(multi_vector=None, '\n",
      " 'quantizer=None, cleanup_interval_seconds=300, '\n",
      " \"distance_metric=<VectorDistances.COSINE: 'cosine'>, dynamic_ef_min=100, \"\n",
      " 'dynamic_ef_max=500, dynamic_ef_factor=8, ef=-1, ef_construction=128, '\n",
      " \"filter_strategy=<VectorFilterStrategy.SWEEPING: 'sweeping'>, \"\n",
      " 'flat_search_cutoff=40000, max_connections=32, skip=False, '\n",
      " 'vector_cache_max_objects=1000000000000))}')\n"
     ]
    }
   ],
   "source": [
    "# To disable compression by default (set in environment before starting Weaviate)\n",
    "# DEFAULT_QUANTIZATION=none\n",
    "\n",
    "# To use PQ instead of RQ as default\n",
    "# DEFAULT_QUANTIZATION=pq\n",
    "\n",
    "client.collections.delete(\"Articles_Uncompressed\")  # Clean up previous test\n",
    "# Example: Creating a collection without compression (override default)\n",
    "uncompressed_collection = client.collections.create(\n",
    "    name=\"Articles_Uncompressed\",\n",
    "    properties=[\n",
    "        Property(name=\"title\", data_type=DataType.TEXT),\n",
    "        Property(name=\"content\", data_type=DataType.TEXT),\n",
    "    ],\n",
    "    vector_config=Configure.Vectors.text2vec_openai(\n",
    "        vector_index_config=Configure.VectorIndex.hnsw(\n",
    "            quantizer=Configure.VectorIndex.Quantizer.none()  # Explicitly disable quantization\n",
    "        )\n",
    "    ),\n",
    ")\n",
    "\n",
    "print(\"✅ Collection created without compression (override default)\")\n",
    "\n",
    "# Verify compression settings\n",
    "collection_config = client.collections.get(\"Articles_Uncompressed\").config.get()\n",
    "pprint(f\"Quantization config: {collection_config.vector_config}\")"
   ]
  },
  {
   "cell_type": "markdown",
   "id": "5b4671a1",
   "metadata": {},
   "source": [
    "<a id=\"1bit-rq\"></a>\n",
    "## 4. 1-bit Rotational Quantization\n",
    "\n",
    "**1-bit RQ** is a cutting-edge preview feature offering extreme compression (up to 32x) while maintaining reasonable recall.\n",
    "\n",
    "### ⚠️ Important considerations\n",
    "- **Preview feature** - Not recommended for production\n",
    "\n",
    "### Key benefits\n",
    "- ✅ **Up-to 32x memory compression** - Significant resource savings\n",
    "- ✅ **Good alternative to BQ** - More robust on challenging datasets, throughput decrease compared to BQ, but offers better recall on some datasets\n",
    "\n",
    "### Docs\n",
    "- [How-to: Rotational Quantization (RQ)](https://v1-33-main--docs-weaviate-io.netlify.app/weaviate/configuration/compression/rq-compression)\n",
    "- [Concepts: Rotational Quantization (RQ)](https://v1-33-main--docs-weaviate-io.netlify.app/weaviate/concepts/vector-quantization#rotational-quantization)"
   ]
  },
  {
   "cell_type": "code",
   "execution_count": 13,
   "id": "924daddc",
   "metadata": {},
   "outputs": [
    {
     "name": "stdout",
     "output_type": "stream",
     "text": [
      "⚠️ Collection created with 1-bit RQ (Preview feature)\n",
      "(\"Quantization config: {'default': \"\n",
      " '_NamedVectorConfig(vectorizer=_NamedVectorizerConfig(vectorizer=<Vectorizers.TEXT2VEC_OPENAI: '\n",
      " \"'text2vec-openai'>, model={'baseURL': 'https://api.openai.com', 'isAzure': \"\n",
      " \"False, 'model': 'text-embedding-3-small', 'vectorizeClassName': True}, \"\n",
      " 'source_properties=None), '\n",
      " 'vector_index_config=_VectorIndexConfigHNSW(multi_vector=None, '\n",
      " 'quantizer=_RQConfig(bits=1, rescore_limit=512), '\n",
      " 'cleanup_interval_seconds=300, distance_metric=<VectorDistances.COSINE: '\n",
      " \"'cosine'>, dynamic_ef_min=100, dynamic_ef_max=500, dynamic_ef_factor=8, \"\n",
      " 'ef=-1, ef_construction=128, filter_strategy=<VectorFilterStrategy.SWEEPING: '\n",
      " \"'sweeping'>, flat_search_cutoff=40000, max_connections=32, skip=False, \"\n",
      " 'vector_cache_max_objects=1000000000000))}')\n"
     ]
    }
   ],
   "source": [
    "client.collections.delete(\"Articles_1bit_RQ_Preview\")  # Clean up previous test\n",
    "# Create a collection with 1-bit RQ (PREVIEW - NOT FOR PRODUCTION)\n",
    "one_bit_collection = client.collections.create(\n",
    "    name=\"Articles_1bit_RQ_Preview\",\n",
    "    properties=[\n",
    "        Property(name=\"title\", data_type=DataType.TEXT),\n",
    "        Property(name=\"content\", data_type=DataType.TEXT),\n",
    "    ],\n",
    "    vector_config=Configure.Vectors.text2vec_openai(\n",
    "        vector_index_config=Configure.VectorIndex.hnsw(\n",
    "            quantizer=Configure.VectorIndex.Quantizer.rq(\n",
    "                bits=1,  # 1-bit quantization\n",
    "            )\n",
    "        )\n",
    "    ),\n",
    ")\n",
    "\n",
    "print(\"⚠️ Collection created with 1-bit RQ (Preview feature)\")\n",
    "\n",
    "# Verify compression settings\n",
    "collection_config = client.collections.get(\"Articles_1bit_RQ_Preview\").config.get()\n",
    "pprint(f\"Quantization config: {collection_config.vector_config}\")"
   ]
  },
  {
   "cell_type": "markdown",
   "id": "a2e18961",
   "metadata": {},
   "source": [
    "<a id=\"filters\"></a>\n",
    "## 5. New filter operators: `ContainsNone` and `Not`\n",
    "\n",
    "Enhanced filtering capabilities with two new operators:\n",
    "\n",
    "- **`ContainsNone` Operator**\n",
    "    Returns objects where the property contains **none** of the specified values.\n",
    "\n",
    "- **`Not` Operator**\n",
    "    Provides logical negation of conditions."
   ]
  },
  {
   "cell_type": "code",
   "execution_count": 14,
   "id": "43984910",
   "metadata": {},
   "outputs": [],
   "source": [
    "client.collections.delete(\"Articles\")  # Clean up previous test\n",
    "# Create collection\n",
    "collection = client.collections.create(\n",
    "    name=\"Articles\",\n",
    "    properties=[\n",
    "        Property(name=\"title\", data_type=DataType.TEXT),\n",
    "        Property(name=\"tags\", data_type=DataType.TEXT_ARRAY),\n",
    "        Property(name=\"category\", data_type=DataType.TEXT),\n",
    "        Property(name=\"views\", data_type=DataType.NUMBER),\n",
    "    ]\n",
    ")\n",
    "\n",
    "# Add 5 sample articles\n",
    "articles = [\n",
    "    {\"title\": \"AI Revolution\", \"tags\": [\"tech\", \"ai\"], \"category\": \"technology\", \"views\": 1500},\n",
    "    {\"title\": \"World Cup Final\", \"tags\": [\"sports\", \"soccer\"], \"category\": \"sports\", \"views\": 5000},\n",
    "    {\"title\": \"Healthy Recipes\", \"tags\": [\"food\", \"health\"], \"category\": \"lifestyle\", \"views\": 800},\n",
    "    {\"title\": \"Stock Market Update\", \"tags\": [\"finance\", \"news\"], \"category\": \"business\", \"views\": 2000},\n",
    "    {\"title\": \"Python Tutorial\", \"tags\": [\"tech\", \"programming\"], \"category\": \"education\", \"views\": 300},\n",
    "]\n",
    "\n",
    "with collection.batch.fixed_size() as batch:\n",
    "    for article in articles:\n",
    "        batch.add_object(properties=article)"
   ]
  },
  {
   "cell_type": "markdown",
   "id": "29438ca4",
   "metadata": {},
   "source": [
    "Now, let's query the data:"
   ]
  },
  {
   "cell_type": "code",
   "execution_count": 15,
   "id": "482582b5",
   "metadata": {},
   "outputs": [
    {
     "name": "stdout",
     "output_type": "stream",
     "text": [
      "\n",
      "=== Not operator example ===\n",
      "- AI Revolution: 1500.0 views\n",
      "- Stock Market Update: 2000.0 views\n"
     ]
    }
   ],
   "source": [
    "# Query with new operators\n",
    "collection = client.collections.get(\"Articles\")\n",
    "\n",
    "# Not: Find articles NOT in sports category with 1000+ views\n",
    "print(\"\\n=== Not operator example ===\")\n",
    "results = collection.query.fetch_objects(\n",
    "    filters=Filter.all_of(\n",
    "        [\n",
    "            Filter.not_(Filter.by_property(\"category\").equal(\"sports\")),\n",
    "            Filter.by_property(\"views\").greater_than(1000),\n",
    "        ]\n",
    "    ),\n",
    "    limit=5,\n",
    ")\n",
    "for obj in results.objects:\n",
    "    print(f\"- {obj.properties['title']}: {obj.properties['views']} views\")\n",
    "\n",
    "# ContainsNone: Find articles WITHOUT sports or news tags\n",
    "# print(\"=== ContainsNone operator example ===\")\n",
    "# results = collection.query.fetch_objects(\n",
    "#     filters=Filter.by_property(\"tags\").contains_none([\"sports\", \"news\"]), limit=5\n",
    "# )\n",
    "# for obj in results.objects:\n",
    "#     print(f\"- {obj.properties['title']}: {obj.properties['tags']}\")\n"
   ]
  },
  {
   "cell_type": "code",
   "execution_count": 16,
   "id": "0897f973",
   "metadata": {},
   "outputs": [],
   "source": [
    "client.close()"
   ]
  },
  {
   "cell_type": "markdown",
   "id": "2f86dac3",
   "metadata": {},
   "source": [
    "<a id=\"oidc-groups\"></a>\n",
    "## 6. OIDC Group management\n",
    "\n",
    "Manage permissions at scale using groups from your identity provider (Keycloak, Okta, Auth0, etc.).\n",
    "\n",
    "### ⚠️ Important considerations\n",
    "- **Set up Keycloak for OIDC** - Automatic Keycloak [setup script](https://github.com/weaviate/docs/blob/44a1f7671e8cd6d0aa9da5226b1e274050b5dbf7/_includes/code/python/keycloak_helper_script.py)\n",
    "\n",
    "\n",
    "### Key features\n",
    "- ✅ **Automatic permission inheritance** - Users get permissions from their groups\n",
    "- ✅ **Centralized management** - Define groups in your IdP\n",
    "- ✅ **Bulk operations** - Assign roles to entire groups\n",
    "- ✅ **Sync with organization structure** - Permissions match your org chart\n",
    "\n",
    "### Docs\n",
    "- [How-to: Manage OIDC groups](https://v1-33-main--docs-weaviate-io.netlify.app/weaviate/configuration/rbac/manage-groups)"
   ]
  },
  {
   "cell_type": "code",
   "execution_count": 17,
   "id": "462675a9",
   "metadata": {},
   "outputs": [
    {
     "name": "stdout",
     "output_type": "stream",
     "text": [
      "Connected to Weaviate: True\n",
      "Weaviate version: 1.33.0-rc.1\n"
     ]
    }
   ],
   "source": [
    "import weaviate\n",
    "from weaviate.classes.init import Auth\n",
    "\n",
    "# Assign the client to a variable\n",
    "oidc_client = weaviate.connect_to_local(\n",
    "    host=\"localhost\",\n",
    "    port=8580,\n",
    "    grpc_port=50551,\n",
    "    auth_credentials=Auth.api_key(\"root-user-key\"),\n",
    ")\n",
    "\n",
    "# Use the correct variable name here\n",
    "print(f\"Connected to Weaviate: {oidc_client.is_ready()}\")\n",
    "print(f\"Weaviate version: {oidc_client.get_meta()['version']}\")"
   ]
  },
  {
   "cell_type": "code",
   "execution_count": 18,
   "id": "dfe601b5",
   "metadata": {},
   "outputs": [
    {
     "name": "stdout",
     "output_type": "stream",
     "text": [
      "✅ Admin group configured with full permissions\n",
      "✅ Engineering team configured\n",
      "\n",
      "📋 Roles for group '/engineering':\n",
      "{'data_manager': Role(name='data_manager',\n",
      "                      alias_permissions=[],\n",
      "                      cluster_permissions=[],\n",
      "                      collections_permissions=[],\n",
      "                      data_permissions=[],\n",
      "                      roles_permissions=[RolesPermissionOutput(actions={<RolesAction.UPDATE: 'update_roles'>, <RolesAction.READ: 'read_roles'>, <RolesAction.CREATE: 'create_roles'>, <RolesAction.DELETE: 'delete_roles'>}, role='testRole*', scope='match')],\n",
      "                      users_permissions=[],\n",
      "                      backups_permissions=[],\n",
      "                      nodes_permissions=[],\n",
      "                      tenants_permissions=[],\n",
      "                      replicate_permissions=[],\n",
      "                      groups_permissions=[]),\n",
      " 'developer': Role(name='developer',\n",
      "                   alias_permissions=[],\n",
      "                   cluster_permissions=[],\n",
      "                   collections_permissions=[],\n",
      "                   data_permissions=[],\n",
      "                   roles_permissions=[RolesPermissionOutput(actions={<RolesAction.UPDATE: 'update_roles'>, <RolesAction.READ: 'read_roles'>, <RolesAction.CREATE: 'create_roles'>, <RolesAction.DELETE: 'delete_roles'>}, role='testRole*', scope='match')],\n",
      "                   users_permissions=[],\n",
      "                   backups_permissions=[],\n",
      "                   nodes_permissions=[],\n",
      "                   tenants_permissions=[],\n",
      "                   replicate_permissions=[],\n",
      "                   groups_permissions=[])}\n"
     ]
    }
   ],
   "source": [
    "from weaviate.classes.rbac import Permissions, RoleScope\n",
    "\n",
    "\n",
    "# Define roles for different teams\n",
    "def setup_oidc_group_permissions():\n",
    "    \"\"\"Configure OIDC group-based permissions\"\"\"\n",
    "    # Cleanup\n",
    "    oidc_client.roles.delete(role_name=\"administrator\")\n",
    "    oidc_client.roles.delete(role_name=\"developer\")\n",
    "    oidc_client.roles.delete(role_name=\"data_manager\")\n",
    "\n",
    "    permissions = [\n",
    "        Permissions.roles(\n",
    "            role=\"testRole*\",  # Applies to all roles starting with \"testRole\"\n",
    "            scope=RoleScope.MATCH,  # Only allow role management with the current user's permission level\n",
    "            # scope=RoleScope.ALL   # Allow role management with all permissions\n",
    "            create=True,  # Allow creating roles\n",
    "            read=True,  # Allow reading roles\n",
    "            update=True,  # Allow updating roles\n",
    "            delete=True,  # Allow deleting roles\n",
    "        )\n",
    "    ]\n",
    "\n",
    "    oidc_client.roles.create(role_name=\"administrator\", permissions=permissions)\n",
    "    oidc_client.roles.create(role_name=\"developer\", permissions=permissions)\n",
    "    oidc_client.roles.create(role_name=\"data_manager\", permissions=permissions)\n",
    "\n",
    "    # 1. Assign roles to admin group\n",
    "    oidc_client.groups.oidc.assign_roles(group_id=\"/admin-group\", role_names=[\"admin\"])\n",
    "    print(\"✅ Admin group configured with full permissions\")\n",
    "\n",
    "    # 2. Configure engineering team\n",
    "    oidc_client.groups.oidc.assign_roles(\n",
    "        group_id=\"/engineering\", role_names=[\"developer\", \"data_manager\"]\n",
    "    )\n",
    "    print(\"✅ Engineering team configured\")\n",
    "\n",
    "\n",
    "# List all roles for a group\n",
    "def list_group_permissions(group_id):\n",
    "    \"\"\"Display all roles assigned to a group\"\"\"\n",
    "    group_roles = oidc_client.groups.oidc.get_assigned_roles(\n",
    "        group_id=group_id, include_permissions=True  # Include detailed permissions\n",
    "    )\n",
    "\n",
    "    print(f\"\\n📋 Roles for group '{group_id}':\")\n",
    "    pprint(group_roles)\n",
    "\n",
    "setup_oidc_group_permissions()\n",
    "list_group_permissions(\"/engineering\")"
   ]
  },
  {
   "cell_type": "code",
   "execution_count": 19,
   "id": "afffbe36",
   "metadata": {},
   "outputs": [
    {
     "name": "stdout",
     "output_type": "stream",
     "text": [
      "✅ Revoked roles ['data_manager'] from /engineering\n",
      "\n",
      "📋 Roles for group '/engineering':\n",
      "{'developer': Role(name='developer',\n",
      "                   alias_permissions=[],\n",
      "                   cluster_permissions=[],\n",
      "                   collections_permissions=[],\n",
      "                   data_permissions=[],\n",
      "                   roles_permissions=[RolesPermissionOutput(actions={<RolesAction.UPDATE: 'update_roles'>, <RolesAction.READ: 'read_roles'>, <RolesAction.CREATE: 'create_roles'>, <RolesAction.DELETE: 'delete_roles'>}, role='testRole*', scope='match')],\n",
      "                   users_permissions=[],\n",
      "                   backups_permissions=[],\n",
      "                   nodes_permissions=[],\n",
      "                   tenants_permissions=[],\n",
      "                   replicate_permissions=[],\n",
      "                   groups_permissions=[])}\n"
     ]
    }
   ],
   "source": [
    "\n",
    "# Revoke specific roles\n",
    "def update_group_permissions(group_id, roles_to_revoke):\n",
    "    \"\"\"Remove specific roles from a group\"\"\"\n",
    "    oidc_client.groups.oidc.revoke_roles(group_id=group_id, role_names=roles_to_revoke)\n",
    "    print(f\"✅ Revoked roles {roles_to_revoke} from {group_id}\")\n",
    "\n",
    "update_group_permissions(\"/engineering\", [\"data_manager\"])\n",
    "list_group_permissions(\"/engineering\")"
   ]
  },
  {
   "cell_type": "code",
   "execution_count": 20,
   "id": "8d5f09f7",
   "metadata": {},
   "outputs": [],
   "source": [
    "oidc_client.close()"
   ]
  },
  {
   "cell_type": "markdown",
   "id": "23ebb1b9",
   "metadata": {},
   "source": [
    "## Further resources\n",
    "\n",
    "For more information about the release, check out the [`v1.33` release highlights blog post](https://v1-33-blog--tangerine-buttercream-20c32f.netlify.app/blog/weaviate-1-33-release)."
   ]
  }
 ],
 "metadata": {
  "kernelspec": {
   "display_name": "3.10.16",
   "language": "python",
   "name": "python3"
  },
  "language_info": {
   "codemirror_mode": {
    "name": "ipython",
    "version": 3
   },
   "file_extension": ".py",
   "mimetype": "text/x-python",
   "name": "python",
   "nbconvert_exporter": "python",
   "pygments_lexer": "ipython3",
   "version": "3.10.16"
  }
 },
 "nbformat": 4,
 "nbformat_minor": 5
}
